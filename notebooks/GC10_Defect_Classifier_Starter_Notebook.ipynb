{
 "cells": [
  {
   "cell_type": "code",
   "execution_count": 1,
   "id": "5ee3fd2c-8539-46f0-9f04-4f013d33407c",
   "metadata": {},
   "outputs": [],
   "source": [
    "import tensorflow as tf\n",
    "from tensorflow import keras\n",
    "import matplotlib.pyplot as plt\n",
    "import numpy as np\n",
    "import pandas as pd\n",
    "import glob\n",
    "import random\n",
    "from matplotlib.patches import Rectangle\n",
    "from lxml import etree\n",
    "# Enable Matplotlib backend for displaying static images\n",
    "%matplotlib inline"
   ]
  },
  {
   "cell_type": "code",
   "execution_count": 2,
   "id": "4d4690b0-4064-4999-8a25-33c9c56f83d1",
   "metadata": {},
   "outputs": [
    {
     "data": {
      "text/plain": [
       "['crease',\n",
       " 'crescent_gap',\n",
       " 'inclusion',\n",
       " 'oil_spot',\n",
       " 'punching_hole',\n",
       " 'rolled_pit',\n",
       " 'silk_spot',\n",
       " 'waist folding',\n",
       " 'water_spot',\n",
       " 'welding_line']"
      ]
     },
     "execution_count": 2,
     "metadata": {},
     "output_type": "execute_result"
    }
   ],
   "source": [
    "# Subfolders for the class labels\n",
    "import os\n",
    "os.listdir(\"data/images/images\")"
   ]
  },
  {
   "cell_type": "code",
   "execution_count": 3,
   "id": "382371c9-ea35-48c1-a482-0d615ceff99b",
   "metadata": {},
   "outputs": [
    {
     "data": {
      "text/plain": [
       "['img_01_3402617700_00001.xml',\n",
       " 'img_01_3402617700_01009.xml',\n",
       " 'img_01_3436789500_00004.xml',\n",
       " 'img_01_3436814600_00259.xml',\n",
       " 'img_01_3436815300_00473.xml']"
      ]
     },
     "execution_count": 3,
     "metadata": {},
     "output_type": "execute_result"
    }
   ],
   "source": [
    "# Annotations of the class labels\n",
    "os.listdir(\"data/label/label\")[:5]"
   ]
  },
  {
   "cell_type": "code",
   "execution_count": 4,
   "id": "0462eaab-9851-4d7b-b3c7-e03df6a396a2",
   "metadata": {},
   "outputs": [],
   "source": [
    "# Read all the images and count the number of image paths in the training subfolders\n",
    "image_path = glob.glob(\"data/images/images/*/*.jpg\")\n",
    "# Normalize slashes to one format first\n",
    "image_path = [p.replace('\\\\', '/') for p in image_path]"
   ]
  },
  {
   "cell_type": "code",
   "execution_count": 5,
   "id": "12ade83f-0485-41cc-a317-362720880f36",
   "metadata": {},
   "outputs": [
    {
     "data": {
      "text/plain": [
       "2306"
      ]
     },
     "execution_count": 5,
     "metadata": {},
     "output_type": "execute_result"
    }
   ],
   "source": [
    "len(image_path)"
   ]
  },
  {
   "cell_type": "code",
   "execution_count": 6,
   "id": "fdfa5840-ece5-4572-8098-379884ef0b6e",
   "metadata": {},
   "outputs": [],
   "source": [
    "# Read all the annotation files and count the number of annotations in the training label folder\n",
    "xmls_path = glob.glob(\"data/label/label/*.xml\")\n",
    "# Normalize slashes to one format first\n",
    "xmls_path = [p.replace('\\\\', '/') for p in xmls_path]"
   ]
  },
  {
   "cell_type": "code",
   "execution_count": 7,
   "id": "ae2079ea-e57f-4a29-b89c-23076af3675c",
   "metadata": {},
   "outputs": [
    {
     "data": {
      "text/plain": [
       "2280"
      ]
     },
     "execution_count": 7,
     "metadata": {},
     "output_type": "execute_result"
    }
   ],
   "source": [
    "len(xmls_path)"
   ]
  },
  {
   "cell_type": "code",
   "execution_count": 8,
   "id": "293c9a7b-446a-4c66-b6f8-97b89290a081",
   "metadata": {},
   "outputs": [],
   "source": [
    "# Sort the annotation and image files in ascending order\n",
    "xmls_path.sort(key = lambda x:x.split(\"/\")[-1].split(\".xml\")[0])\n",
    "image_path.sort(key = lambda x:x.split(\"/\")[-1].split(\".jpg\")[0])"
   ]
  },
  {
   "cell_type": "code",
   "execution_count": 9,
   "id": "b0337f6a-32bb-47ca-b8b9-4289ddf8f2a3",
   "metadata": {},
   "outputs": [
    {
     "data": {
      "text/plain": [
       "['data/label/label/img_01_3402617700_00001.xml',\n",
       " 'data/label/label/img_01_3402617700_01009.xml',\n",
       " 'data/label/label/img_01_3436789500_00004.xml',\n",
       " 'data/label/label/img_01_3436814600_00259.xml',\n",
       " 'data/label/label/img_01_3436815300_00473.xml']"
      ]
     },
     "execution_count": 9,
     "metadata": {},
     "output_type": "execute_result"
    }
   ],
   "source": [
    "xmls_path[:5]"
   ]
  },
  {
   "cell_type": "code",
   "execution_count": 10,
   "id": "4c59c026-04c2-4254-bc69-a68c2ed71b66",
   "metadata": {},
   "outputs": [
    {
     "data": {
      "text/plain": [
       "['data/images/images/crescent_gap/img_01_3402617700_00001.jpg',\n",
       " 'data/images/images/crescent_gap/img_01_3402617700_01009.jpg',\n",
       " 'data/images/images/crease/img_01_3436789500_00004.jpg',\n",
       " 'data/images/images/silk_spot/img_01_3436814600_00259.jpg',\n",
       " 'data/images/images/silk_spot/img_01_3436815300_00473.jpg']"
      ]
     },
     "execution_count": 10,
     "metadata": {},
     "output_type": "execute_result"
    }
   ],
   "source": [
    "image_path[:5]"
   ]
  },
  {
   "cell_type": "code",
   "execution_count": 11,
   "id": "a6e60036-7c84-4236-92df-d871d9cbb5d1",
   "metadata": {},
   "outputs": [],
   "source": [
    "# Extract the annotation filename without file extension\n",
    "xmls_train = [path.split(\"/\")[-1].split(\".\")[0] for path in xmls_path]"
   ]
  },
  {
   "cell_type": "code",
   "execution_count": 12,
   "id": "88ea9675-3a08-4020-a654-5b9a77de79f3",
   "metadata": {},
   "outputs": [
    {
     "data": {
      "text/plain": [
       "['img_01_3402617700_00001',\n",
       " 'img_01_3402617700_01009',\n",
       " 'img_01_3436789500_00004',\n",
       " 'img_01_3436814600_00259',\n",
       " 'img_01_3436815300_00473']"
      ]
     },
     "execution_count": 12,
     "metadata": {},
     "output_type": "execute_result"
    }
   ],
   "source": [
    "xmls_train[:5]"
   ]
  },
  {
   "cell_type": "code",
   "execution_count": 13,
   "id": "2e06ef65-beb1-40e8-b808-fd4b26ca35bb",
   "metadata": {},
   "outputs": [
    {
     "data": {
      "text/plain": [
       "['data/images/images/crescent_gap/img_01_3402617700_00001.jpg',\n",
       " 'data/images/images/crescent_gap/img_01_3402617700_01009.jpg',\n",
       " 'data/images/images/crease/img_01_3436789500_00004.jpg',\n",
       " 'data/images/images/silk_spot/img_01_3436814600_00259.jpg',\n",
       " 'data/images/images/silk_spot/img_01_3436815300_00473.jpg']"
      ]
     },
     "execution_count": 13,
     "metadata": {},
     "output_type": "execute_result"
    }
   ],
   "source": [
    "# Retrieve the image filename that have a corresponding annotation file.\n",
    "# This will be the training set of images.\n",
    "imgs_train = [img for img in image_path if (img.split(\"/\")[-1].split)(\".jpg\")[0] in xmls_train]\n",
    "imgs_train[:5]"
   ]
  },
  {
   "cell_type": "code",
   "execution_count": 14,
   "id": "697644f2-6197-4cd4-9336-57514eb8816e",
   "metadata": {},
   "outputs": [
    {
     "data": {
      "text/plain": [
       "(2280, 2280)"
      ]
     },
     "execution_count": 14,
     "metadata": {},
     "output_type": "execute_result"
    }
   ],
   "source": [
    "# Ensure equal counts of training images with the annotations\n",
    "len(imgs_train),len(xmls_path)"
   ]
  },
  {
   "cell_type": "code",
   "execution_count": 15,
   "id": "fdf4f28b-3472-4efc-9219-c03c76a646af",
   "metadata": {},
   "outputs": [],
   "source": [
    "#########################\n",
    "# SET UP THE DATA FRAME #\n",
    "#########################"
   ]
  },
  {
   "cell_type": "code",
   "execution_count": 16,
   "id": "836e7237-e54d-4f42-83db-d0ef9edd7a04",
   "metadata": {},
   "outputs": [
    {
     "data": {
      "text/plain": [
       "['crescent_gap', 'crescent_gap', 'crease', 'silk_spot', 'silk_spot']"
      ]
     },
     "execution_count": 16,
     "metadata": {},
     "output_type": "execute_result"
    }
   ],
   "source": [
    "# Extract class label from the path of each image file\n",
    "labels = [label.split(\"/\")[-2] for label in imgs_train]\n",
    "labels[:5]"
   ]
  },
  {
   "cell_type": "code",
   "execution_count": 17,
   "id": "85a9df80-0ae6-4bf8-bed8-66a780cd522f",
   "metadata": {},
   "outputs": [
    {
     "data": {
      "text/html": [
       "<div>\n",
       "<style scoped>\n",
       "    .dataframe tbody tr th:only-of-type {\n",
       "        vertical-align: middle;\n",
       "    }\n",
       "\n",
       "    .dataframe tbody tr th {\n",
       "        vertical-align: top;\n",
       "    }\n",
       "\n",
       "    .dataframe thead th {\n",
       "        text-align: right;\n",
       "    }\n",
       "</style>\n",
       "<table border=\"1\" class=\"dataframe\">\n",
       "  <thead>\n",
       "    <tr style=\"text-align: right;\">\n",
       "      <th></th>\n",
       "      <th>Defect Type</th>\n",
       "    </tr>\n",
       "  </thead>\n",
       "  <tbody>\n",
       "    <tr>\n",
       "      <th>0</th>\n",
       "      <td>crescent_gap</td>\n",
       "    </tr>\n",
       "    <tr>\n",
       "      <th>1</th>\n",
       "      <td>crescent_gap</td>\n",
       "    </tr>\n",
       "    <tr>\n",
       "      <th>2</th>\n",
       "      <td>crease</td>\n",
       "    </tr>\n",
       "    <tr>\n",
       "      <th>3</th>\n",
       "      <td>silk_spot</td>\n",
       "    </tr>\n",
       "    <tr>\n",
       "      <th>4</th>\n",
       "      <td>silk_spot</td>\n",
       "    </tr>\n",
       "    <tr>\n",
       "      <th>...</th>\n",
       "      <td>...</td>\n",
       "    </tr>\n",
       "    <tr>\n",
       "      <th>2275</th>\n",
       "      <td>silk_spot</td>\n",
       "    </tr>\n",
       "    <tr>\n",
       "      <th>2276</th>\n",
       "      <td>silk_spot</td>\n",
       "    </tr>\n",
       "    <tr>\n",
       "      <th>2277</th>\n",
       "      <td>silk_spot</td>\n",
       "    </tr>\n",
       "    <tr>\n",
       "      <th>2278</th>\n",
       "      <td>silk_spot</td>\n",
       "    </tr>\n",
       "    <tr>\n",
       "      <th>2279</th>\n",
       "      <td>crescent_gap</td>\n",
       "    </tr>\n",
       "  </tbody>\n",
       "</table>\n",
       "<p>2280 rows × 1 columns</p>\n",
       "</div>"
      ],
      "text/plain": [
       "       Defect Type\n",
       "0     crescent_gap\n",
       "1     crescent_gap\n",
       "2           crease\n",
       "3        silk_spot\n",
       "4        silk_spot\n",
       "...            ...\n",
       "2275     silk_spot\n",
       "2276     silk_spot\n",
       "2277     silk_spot\n",
       "2278     silk_spot\n",
       "2279  crescent_gap\n",
       "\n",
       "[2280 rows x 1 columns]"
      ]
     },
     "execution_count": 17,
     "metadata": {},
     "output_type": "execute_result"
    }
   ],
   "source": [
    "# Convert the labels into a Pandas DataFrame for the class labels and call them Defect Types\n",
    "labels = pd.DataFrame(labels, columns = [\"Defect Type\"])\n",
    "labels"
   ]
  },
  {
   "cell_type": "code",
   "execution_count": 18,
   "id": "ae22c163-814b-4a11-936e-35725af13ad5",
   "metadata": {},
   "outputs": [],
   "source": [
    "# Set up a One-hot encoding to represent the defect types.  A one-hot encoded vector is a way of representing categorical values as binary vectors\n",
    "# where exactly one element is 1 (the \"hot\" one) and all others are 0.  Each defect type is assigned a binary vector of 10 with the bit for the\n",
    "# specific defect type turned \"on\".\n",
    "from sklearn.preprocessing import LabelBinarizer"
   ]
  },
  {
   "cell_type": "code",
   "execution_count": 19,
   "id": "ce47b232-7e94-4650-a326-dd126c1c1945",
   "metadata": {},
   "outputs": [],
   "source": [
    "# Obtain training labels without duplication\n",
    "Class = labels[\"Defect Type\"].unique()"
   ]
  },
  {
   "cell_type": "code",
   "execution_count": 20,
   "id": "eb4fa112-1378-4ed2-9930-78ee005af010",
   "metadata": {},
   "outputs": [
    {
     "name": "stdout",
     "output_type": "stream",
     "text": [
      "['crescent_gap' 'crease' 'silk_spot' 'water_spot' 'welding_line'\n",
      " 'inclusion' 'oil_spot' 'waist folding' 'rolled_pit' 'punching_hole']\n"
     ]
    }
   ],
   "source": [
    "print(Class)"
   ]
  },
  {
   "cell_type": "code",
   "execution_count": 21,
   "id": "dd7fe588-cd6e-4ed2-bd20-f5b89f3e6491",
   "metadata": {},
   "outputs": [
    {
     "name": "stdout",
     "output_type": "stream",
     "text": [
      "[('crescent_gap', 1), ('crease', 2), ('silk_spot', 3), ('water_spot', 4), ('welding_line', 5), ('inclusion', 6), ('oil_spot', 7), ('waist folding', 8), ('rolled_pit', 9), ('punching_hole', 10)]\n"
     ]
    }
   ],
   "source": [
    "# Pair each element in Class with a corresponding number starting from 1\n",
    "zip_result = list(zip(Class, range(1, len(Class) + 1)))\n",
    "print(zip_result)"
   ]
  },
  {
   "cell_type": "code",
   "execution_count": 22,
   "id": "7010f587-4e78-4c89-914c-c6ec2a50cf6c",
   "metadata": {},
   "outputs": [
    {
     "data": {
      "text/plain": [
       "{'crescent_gap': 1,\n",
       " 'crease': 2,\n",
       " 'silk_spot': 3,\n",
       " 'water_spot': 4,\n",
       " 'welding_line': 5,\n",
       " 'inclusion': 6,\n",
       " 'oil_spot': 7,\n",
       " 'waist folding': 8,\n",
       " 'rolled_pit': 9,\n",
       " 'punching_hole': 10}"
      ]
     },
     "execution_count": 22,
     "metadata": {},
     "output_type": "execute_result"
    }
   ],
   "source": [
    "# Transform the tuple into a map of defect type to it's numerical reference (defect class index)\n",
    "Class_dict = dict(zip_result)\n",
    "Class_dict"
   ]
  },
  {
   "cell_type": "code",
   "execution_count": 23,
   "id": "e10c6afe-fe01-44b8-96e1-e59ddee66269",
   "metadata": {},
   "outputs": [
    {
     "data": {
      "text/html": [
       "<div>\n",
       "<style scoped>\n",
       "    .dataframe tbody tr th:only-of-type {\n",
       "        vertical-align: middle;\n",
       "    }\n",
       "\n",
       "    .dataframe tbody tr th {\n",
       "        vertical-align: top;\n",
       "    }\n",
       "\n",
       "    .dataframe thead th {\n",
       "        text-align: right;\n",
       "    }\n",
       "</style>\n",
       "<table border=\"1\" class=\"dataframe\">\n",
       "  <thead>\n",
       "    <tr style=\"text-align: right;\">\n",
       "      <th></th>\n",
       "      <th>Defect Type</th>\n",
       "      <th>Class</th>\n",
       "    </tr>\n",
       "  </thead>\n",
       "  <tbody>\n",
       "    <tr>\n",
       "      <th>0</th>\n",
       "      <td>crescent_gap</td>\n",
       "      <td>1</td>\n",
       "    </tr>\n",
       "    <tr>\n",
       "      <th>1</th>\n",
       "      <td>crescent_gap</td>\n",
       "      <td>1</td>\n",
       "    </tr>\n",
       "    <tr>\n",
       "      <th>2</th>\n",
       "      <td>crease</td>\n",
       "      <td>2</td>\n",
       "    </tr>\n",
       "    <tr>\n",
       "      <th>3</th>\n",
       "      <td>silk_spot</td>\n",
       "      <td>3</td>\n",
       "    </tr>\n",
       "    <tr>\n",
       "      <th>4</th>\n",
       "      <td>silk_spot</td>\n",
       "      <td>3</td>\n",
       "    </tr>\n",
       "    <tr>\n",
       "      <th>...</th>\n",
       "      <td>...</td>\n",
       "      <td>...</td>\n",
       "    </tr>\n",
       "    <tr>\n",
       "      <th>2275</th>\n",
       "      <td>silk_spot</td>\n",
       "      <td>3</td>\n",
       "    </tr>\n",
       "    <tr>\n",
       "      <th>2276</th>\n",
       "      <td>silk_spot</td>\n",
       "      <td>3</td>\n",
       "    </tr>\n",
       "    <tr>\n",
       "      <th>2277</th>\n",
       "      <td>silk_spot</td>\n",
       "      <td>3</td>\n",
       "    </tr>\n",
       "    <tr>\n",
       "      <th>2278</th>\n",
       "      <td>silk_spot</td>\n",
       "      <td>3</td>\n",
       "    </tr>\n",
       "    <tr>\n",
       "      <th>2279</th>\n",
       "      <td>crescent_gap</td>\n",
       "      <td>1</td>\n",
       "    </tr>\n",
       "  </tbody>\n",
       "</table>\n",
       "<p>2280 rows × 2 columns</p>\n",
       "</div>"
      ],
      "text/plain": [
       "       Defect Type  Class\n",
       "0     crescent_gap      1\n",
       "1     crescent_gap      1\n",
       "2           crease      2\n",
       "3        silk_spot      3\n",
       "4        silk_spot      3\n",
       "...            ...    ...\n",
       "2275     silk_spot      3\n",
       "2276     silk_spot      3\n",
       "2277     silk_spot      3\n",
       "2278     silk_spot      3\n",
       "2279  crescent_gap      1\n",
       "\n",
       "[2280 rows x 2 columns]"
      ]
     },
     "execution_count": 23,
     "metadata": {},
     "output_type": "execute_result"
    }
   ],
   "source": [
    "# Create a new column called \"Class\" in the data frome and store the corresponding defect index\n",
    "labels[\"Class\"] = labels[\"Defect Type\"].apply(lambda x: Class_dict[x])\n",
    "labels"
   ]
  },
  {
   "cell_type": "code",
   "execution_count": 24,
   "id": "40c121c2-2f9a-4cd5-a28d-c6dd7cfd0878",
   "metadata": {},
   "outputs": [
    {
     "data": {
      "text/plain": [
       "array([[1, 0, 0, 0, 0, 0, 0, 0, 0, 0],\n",
       "       [1, 0, 0, 0, 0, 0, 0, 0, 0, 0],\n",
       "       [0, 1, 0, 0, 0, 0, 0, 0, 0, 0],\n",
       "       [0, 0, 1, 0, 0, 0, 0, 0, 0, 0],\n",
       "       [0, 0, 1, 0, 0, 0, 0, 0, 0, 0]])"
      ]
     },
     "execution_count": 24,
     "metadata": {},
     "output_type": "execute_result"
    }
   ],
   "source": [
    "# Convert the class dictionary into binary vectors for easier processing\n",
    "lb = LabelBinarizer()\n",
    "# Fit it to the class dictionary\n",
    "lb.fit(list(Class_dict.values()))\n",
    "# Convert multi-class labels to binary labels (belong or does not belong) to the labels\n",
    "transformed_labels = lb.transform(labels[\"Class\"])\n",
    "transformed_labels[:5]"
   ]
  },
  {
   "cell_type": "code",
   "execution_count": 25,
   "id": "70251aac-aa0a-4b48-9961-7d3f79af51b1",
   "metadata": {},
   "outputs": [
    {
     "data": {
      "text/plain": [
       "(2280, 10)"
      ]
     },
     "execution_count": 25,
     "metadata": {},
     "output_type": "execute_result"
    }
   ],
   "source": [
    "transformed_labels.shape"
   ]
  },
  {
   "cell_type": "code",
   "execution_count": 26,
   "id": "405cb886-68d7-41d5-8114-407d249ef967",
   "metadata": {},
   "outputs": [],
   "source": [
    "# Create some new columns corresponding to the class index\n",
    "y_bin_labels = [] \n",
    "for i in range(transformed_labels.shape[1]):\n",
    "    y_bin_labels.append(\"Class\" + str(i))\n",
    "    # Add the columns to the data frame.\n",
    "    labels[\"Class\" + str(i + 1)] = transformed_labels[:, i]"
   ]
  },
  {
   "cell_type": "code",
   "execution_count": 27,
   "id": "e079eb22-1658-4af4-9e14-0a1f57fc6bd8",
   "metadata": {},
   "outputs": [
    {
     "data": {
      "text/plain": [
       "['Class0', 'Class1', 'Class2', 'Class3', 'Class4']"
      ]
     },
     "execution_count": 27,
     "metadata": {},
     "output_type": "execute_result"
    }
   ],
   "source": [
    "y_bin_labels[:5]"
   ]
  },
  {
   "cell_type": "code",
   "execution_count": 28,
   "id": "c3c1c4d8-fbfb-402f-a028-e4f92a5622f5",
   "metadata": {},
   "outputs": [
    {
     "data": {
      "text/html": [
       "<div>\n",
       "<style scoped>\n",
       "    .dataframe tbody tr th:only-of-type {\n",
       "        vertical-align: middle;\n",
       "    }\n",
       "\n",
       "    .dataframe tbody tr th {\n",
       "        vertical-align: top;\n",
       "    }\n",
       "\n",
       "    .dataframe thead th {\n",
       "        text-align: right;\n",
       "    }\n",
       "</style>\n",
       "<table border=\"1\" class=\"dataframe\">\n",
       "  <thead>\n",
       "    <tr style=\"text-align: right;\">\n",
       "      <th></th>\n",
       "      <th>Defect Type</th>\n",
       "      <th>Class</th>\n",
       "      <th>Class1</th>\n",
       "      <th>Class2</th>\n",
       "      <th>Class3</th>\n",
       "      <th>Class4</th>\n",
       "      <th>Class5</th>\n",
       "      <th>Class6</th>\n",
       "      <th>Class7</th>\n",
       "      <th>Class8</th>\n",
       "      <th>Class9</th>\n",
       "      <th>Class10</th>\n",
       "    </tr>\n",
       "  </thead>\n",
       "  <tbody>\n",
       "    <tr>\n",
       "      <th>0</th>\n",
       "      <td>crescent_gap</td>\n",
       "      <td>1</td>\n",
       "      <td>1</td>\n",
       "      <td>0</td>\n",
       "      <td>0</td>\n",
       "      <td>0</td>\n",
       "      <td>0</td>\n",
       "      <td>0</td>\n",
       "      <td>0</td>\n",
       "      <td>0</td>\n",
       "      <td>0</td>\n",
       "      <td>0</td>\n",
       "    </tr>\n",
       "    <tr>\n",
       "      <th>1</th>\n",
       "      <td>crescent_gap</td>\n",
       "      <td>1</td>\n",
       "      <td>1</td>\n",
       "      <td>0</td>\n",
       "      <td>0</td>\n",
       "      <td>0</td>\n",
       "      <td>0</td>\n",
       "      <td>0</td>\n",
       "      <td>0</td>\n",
       "      <td>0</td>\n",
       "      <td>0</td>\n",
       "      <td>0</td>\n",
       "    </tr>\n",
       "    <tr>\n",
       "      <th>2</th>\n",
       "      <td>crease</td>\n",
       "      <td>2</td>\n",
       "      <td>0</td>\n",
       "      <td>1</td>\n",
       "      <td>0</td>\n",
       "      <td>0</td>\n",
       "      <td>0</td>\n",
       "      <td>0</td>\n",
       "      <td>0</td>\n",
       "      <td>0</td>\n",
       "      <td>0</td>\n",
       "      <td>0</td>\n",
       "    </tr>\n",
       "    <tr>\n",
       "      <th>3</th>\n",
       "      <td>silk_spot</td>\n",
       "      <td>3</td>\n",
       "      <td>0</td>\n",
       "      <td>0</td>\n",
       "      <td>1</td>\n",
       "      <td>0</td>\n",
       "      <td>0</td>\n",
       "      <td>0</td>\n",
       "      <td>0</td>\n",
       "      <td>0</td>\n",
       "      <td>0</td>\n",
       "      <td>0</td>\n",
       "    </tr>\n",
       "    <tr>\n",
       "      <th>4</th>\n",
       "      <td>silk_spot</td>\n",
       "      <td>3</td>\n",
       "      <td>0</td>\n",
       "      <td>0</td>\n",
       "      <td>1</td>\n",
       "      <td>0</td>\n",
       "      <td>0</td>\n",
       "      <td>0</td>\n",
       "      <td>0</td>\n",
       "      <td>0</td>\n",
       "      <td>0</td>\n",
       "      <td>0</td>\n",
       "    </tr>\n",
       "    <tr>\n",
       "      <th>...</th>\n",
       "      <td>...</td>\n",
       "      <td>...</td>\n",
       "      <td>...</td>\n",
       "      <td>...</td>\n",
       "      <td>...</td>\n",
       "      <td>...</td>\n",
       "      <td>...</td>\n",
       "      <td>...</td>\n",
       "      <td>...</td>\n",
       "      <td>...</td>\n",
       "      <td>...</td>\n",
       "      <td>...</td>\n",
       "    </tr>\n",
       "    <tr>\n",
       "      <th>2275</th>\n",
       "      <td>silk_spot</td>\n",
       "      <td>3</td>\n",
       "      <td>0</td>\n",
       "      <td>0</td>\n",
       "      <td>1</td>\n",
       "      <td>0</td>\n",
       "      <td>0</td>\n",
       "      <td>0</td>\n",
       "      <td>0</td>\n",
       "      <td>0</td>\n",
       "      <td>0</td>\n",
       "      <td>0</td>\n",
       "    </tr>\n",
       "    <tr>\n",
       "      <th>2276</th>\n",
       "      <td>silk_spot</td>\n",
       "      <td>3</td>\n",
       "      <td>0</td>\n",
       "      <td>0</td>\n",
       "      <td>1</td>\n",
       "      <td>0</td>\n",
       "      <td>0</td>\n",
       "      <td>0</td>\n",
       "      <td>0</td>\n",
       "      <td>0</td>\n",
       "      <td>0</td>\n",
       "      <td>0</td>\n",
       "    </tr>\n",
       "    <tr>\n",
       "      <th>2277</th>\n",
       "      <td>silk_spot</td>\n",
       "      <td>3</td>\n",
       "      <td>0</td>\n",
       "      <td>0</td>\n",
       "      <td>1</td>\n",
       "      <td>0</td>\n",
       "      <td>0</td>\n",
       "      <td>0</td>\n",
       "      <td>0</td>\n",
       "      <td>0</td>\n",
       "      <td>0</td>\n",
       "      <td>0</td>\n",
       "    </tr>\n",
       "    <tr>\n",
       "      <th>2278</th>\n",
       "      <td>silk_spot</td>\n",
       "      <td>3</td>\n",
       "      <td>0</td>\n",
       "      <td>0</td>\n",
       "      <td>1</td>\n",
       "      <td>0</td>\n",
       "      <td>0</td>\n",
       "      <td>0</td>\n",
       "      <td>0</td>\n",
       "      <td>0</td>\n",
       "      <td>0</td>\n",
       "      <td>0</td>\n",
       "    </tr>\n",
       "    <tr>\n",
       "      <th>2279</th>\n",
       "      <td>crescent_gap</td>\n",
       "      <td>1</td>\n",
       "      <td>1</td>\n",
       "      <td>0</td>\n",
       "      <td>0</td>\n",
       "      <td>0</td>\n",
       "      <td>0</td>\n",
       "      <td>0</td>\n",
       "      <td>0</td>\n",
       "      <td>0</td>\n",
       "      <td>0</td>\n",
       "      <td>0</td>\n",
       "    </tr>\n",
       "  </tbody>\n",
       "</table>\n",
       "<p>2280 rows × 12 columns</p>\n",
       "</div>"
      ],
      "text/plain": [
       "       Defect Type  Class  Class1  Class2  Class3  Class4  Class5  Class6  \\\n",
       "0     crescent_gap      1       1       0       0       0       0       0   \n",
       "1     crescent_gap      1       1       0       0       0       0       0   \n",
       "2           crease      2       0       1       0       0       0       0   \n",
       "3        silk_spot      3       0       0       1       0       0       0   \n",
       "4        silk_spot      3       0       0       1       0       0       0   \n",
       "...            ...    ...     ...     ...     ...     ...     ...     ...   \n",
       "2275     silk_spot      3       0       0       1       0       0       0   \n",
       "2276     silk_spot      3       0       0       1       0       0       0   \n",
       "2277     silk_spot      3       0       0       1       0       0       0   \n",
       "2278     silk_spot      3       0       0       1       0       0       0   \n",
       "2279  crescent_gap      1       1       0       0       0       0       0   \n",
       "\n",
       "      Class7  Class8  Class9  Class10  \n",
       "0          0       0       0        0  \n",
       "1          0       0       0        0  \n",
       "2          0       0       0        0  \n",
       "3          0       0       0        0  \n",
       "4          0       0       0        0  \n",
       "...      ...     ...     ...      ...  \n",
       "2275       0       0       0        0  \n",
       "2276       0       0       0        0  \n",
       "2277       0       0       0        0  \n",
       "2278       0       0       0        0  \n",
       "2279       0       0       0        0  \n",
       "\n",
       "[2280 rows x 12 columns]"
      ]
     },
     "execution_count": 28,
     "metadata": {},
     "output_type": "execute_result"
    }
   ],
   "source": [
    "labels"
   ]
  },
  {
   "cell_type": "code",
   "execution_count": 29,
   "id": "ab18d9a9-e20f-4a94-91c8-ae1ee3b18989",
   "metadata": {},
   "outputs": [],
   "source": [
    "# Drop any columns not needed for numerical processing\n",
    "labels.drop(\"Class\", axis = 1, inplace = True)\n",
    "labels.drop(\"Defect Type\", axis = 1, inplace = True)"
   ]
  },
  {
   "cell_type": "code",
   "execution_count": 30,
   "id": "dd897006-1b7b-4b85-949c-0efacd460560",
   "metadata": {},
   "outputs": [
    {
     "data": {
      "text/html": [
       "<div>\n",
       "<style scoped>\n",
       "    .dataframe tbody tr th:only-of-type {\n",
       "        vertical-align: middle;\n",
       "    }\n",
       "\n",
       "    .dataframe tbody tr th {\n",
       "        vertical-align: top;\n",
       "    }\n",
       "\n",
       "    .dataframe thead th {\n",
       "        text-align: right;\n",
       "    }\n",
       "</style>\n",
       "<table border=\"1\" class=\"dataframe\">\n",
       "  <thead>\n",
       "    <tr style=\"text-align: right;\">\n",
       "      <th></th>\n",
       "      <th>Class1</th>\n",
       "      <th>Class2</th>\n",
       "      <th>Class3</th>\n",
       "      <th>Class4</th>\n",
       "      <th>Class5</th>\n",
       "      <th>Class6</th>\n",
       "      <th>Class7</th>\n",
       "      <th>Class8</th>\n",
       "      <th>Class9</th>\n",
       "      <th>Class10</th>\n",
       "    </tr>\n",
       "  </thead>\n",
       "  <tbody>\n",
       "    <tr>\n",
       "      <th>0</th>\n",
       "      <td>1</td>\n",
       "      <td>0</td>\n",
       "      <td>0</td>\n",
       "      <td>0</td>\n",
       "      <td>0</td>\n",
       "      <td>0</td>\n",
       "      <td>0</td>\n",
       "      <td>0</td>\n",
       "      <td>0</td>\n",
       "      <td>0</td>\n",
       "    </tr>\n",
       "    <tr>\n",
       "      <th>1</th>\n",
       "      <td>1</td>\n",
       "      <td>0</td>\n",
       "      <td>0</td>\n",
       "      <td>0</td>\n",
       "      <td>0</td>\n",
       "      <td>0</td>\n",
       "      <td>0</td>\n",
       "      <td>0</td>\n",
       "      <td>0</td>\n",
       "      <td>0</td>\n",
       "    </tr>\n",
       "    <tr>\n",
       "      <th>2</th>\n",
       "      <td>0</td>\n",
       "      <td>1</td>\n",
       "      <td>0</td>\n",
       "      <td>0</td>\n",
       "      <td>0</td>\n",
       "      <td>0</td>\n",
       "      <td>0</td>\n",
       "      <td>0</td>\n",
       "      <td>0</td>\n",
       "      <td>0</td>\n",
       "    </tr>\n",
       "    <tr>\n",
       "      <th>3</th>\n",
       "      <td>0</td>\n",
       "      <td>0</td>\n",
       "      <td>1</td>\n",
       "      <td>0</td>\n",
       "      <td>0</td>\n",
       "      <td>0</td>\n",
       "      <td>0</td>\n",
       "      <td>0</td>\n",
       "      <td>0</td>\n",
       "      <td>0</td>\n",
       "    </tr>\n",
       "    <tr>\n",
       "      <th>4</th>\n",
       "      <td>0</td>\n",
       "      <td>0</td>\n",
       "      <td>1</td>\n",
       "      <td>0</td>\n",
       "      <td>0</td>\n",
       "      <td>0</td>\n",
       "      <td>0</td>\n",
       "      <td>0</td>\n",
       "      <td>0</td>\n",
       "      <td>0</td>\n",
       "    </tr>\n",
       "    <tr>\n",
       "      <th>...</th>\n",
       "      <td>...</td>\n",
       "      <td>...</td>\n",
       "      <td>...</td>\n",
       "      <td>...</td>\n",
       "      <td>...</td>\n",
       "      <td>...</td>\n",
       "      <td>...</td>\n",
       "      <td>...</td>\n",
       "      <td>...</td>\n",
       "      <td>...</td>\n",
       "    </tr>\n",
       "    <tr>\n",
       "      <th>2275</th>\n",
       "      <td>0</td>\n",
       "      <td>0</td>\n",
       "      <td>1</td>\n",
       "      <td>0</td>\n",
       "      <td>0</td>\n",
       "      <td>0</td>\n",
       "      <td>0</td>\n",
       "      <td>0</td>\n",
       "      <td>0</td>\n",
       "      <td>0</td>\n",
       "    </tr>\n",
       "    <tr>\n",
       "      <th>2276</th>\n",
       "      <td>0</td>\n",
       "      <td>0</td>\n",
       "      <td>1</td>\n",
       "      <td>0</td>\n",
       "      <td>0</td>\n",
       "      <td>0</td>\n",
       "      <td>0</td>\n",
       "      <td>0</td>\n",
       "      <td>0</td>\n",
       "      <td>0</td>\n",
       "    </tr>\n",
       "    <tr>\n",
       "      <th>2277</th>\n",
       "      <td>0</td>\n",
       "      <td>0</td>\n",
       "      <td>1</td>\n",
       "      <td>0</td>\n",
       "      <td>0</td>\n",
       "      <td>0</td>\n",
       "      <td>0</td>\n",
       "      <td>0</td>\n",
       "      <td>0</td>\n",
       "      <td>0</td>\n",
       "    </tr>\n",
       "    <tr>\n",
       "      <th>2278</th>\n",
       "      <td>0</td>\n",
       "      <td>0</td>\n",
       "      <td>1</td>\n",
       "      <td>0</td>\n",
       "      <td>0</td>\n",
       "      <td>0</td>\n",
       "      <td>0</td>\n",
       "      <td>0</td>\n",
       "      <td>0</td>\n",
       "      <td>0</td>\n",
       "    </tr>\n",
       "    <tr>\n",
       "      <th>2279</th>\n",
       "      <td>1</td>\n",
       "      <td>0</td>\n",
       "      <td>0</td>\n",
       "      <td>0</td>\n",
       "      <td>0</td>\n",
       "      <td>0</td>\n",
       "      <td>0</td>\n",
       "      <td>0</td>\n",
       "      <td>0</td>\n",
       "      <td>0</td>\n",
       "    </tr>\n",
       "  </tbody>\n",
       "</table>\n",
       "<p>2280 rows × 10 columns</p>\n",
       "</div>"
      ],
      "text/plain": [
       "      Class1  Class2  Class3  Class4  Class5  Class6  Class7  Class8  Class9  \\\n",
       "0          1       0       0       0       0       0       0       0       0   \n",
       "1          1       0       0       0       0       0       0       0       0   \n",
       "2          0       1       0       0       0       0       0       0       0   \n",
       "3          0       0       1       0       0       0       0       0       0   \n",
       "4          0       0       1       0       0       0       0       0       0   \n",
       "...      ...     ...     ...     ...     ...     ...     ...     ...     ...   \n",
       "2275       0       0       1       0       0       0       0       0       0   \n",
       "2276       0       0       1       0       0       0       0       0       0   \n",
       "2277       0       0       1       0       0       0       0       0       0   \n",
       "2278       0       0       1       0       0       0       0       0       0   \n",
       "2279       1       0       0       0       0       0       0       0       0   \n",
       "\n",
       "      Class10  \n",
       "0           0  \n",
       "1           0  \n",
       "2           0  \n",
       "3           0  \n",
       "4           0  \n",
       "...       ...  \n",
       "2275        0  \n",
       "2276        0  \n",
       "2277        0  \n",
       "2278        0  \n",
       "2279        0  \n",
       "\n",
       "[2280 rows x 10 columns]"
      ]
     },
     "execution_count": 30,
     "metadata": {},
     "output_type": "execute_result"
    }
   ],
   "source": [
    "# Display the current data frame\n",
    "labels"
   ]
  },
  {
   "cell_type": "code",
   "execution_count": 31,
   "id": "887a99bd-9bbf-4c6d-872a-c72d84fe1283",
   "metadata": {},
   "outputs": [],
   "source": [
    "# Function to parse and extract information from annotation files and normalize coordinates between 0,1\n",
    "# Relative bounding box coordinates express positions and dimensions as fractions of the image size, making them flexible and resolution-independent.\n",
    "def to_labels(path):\n",
    "    # Read the annotation file\n",
    "    xml = open(\"{}\".format(path)).read()                         \n",
    "    sel = etree.HTML(xml)\n",
    "    # Obtain the image width\n",
    "    width = int(sel.xpath(\"//size/width/text()\")[0])\n",
    "    # Obtain the image height\n",
    "    height = int(sel.xpath(\"//size/height/text()\")[0])  \n",
    "    # Extract the bounding box coordinates\n",
    "    xmin = int(sel.xpath(\"//bndbox/xmin/text()\")[0])\n",
    "    xmax = int(sel.xpath(\"//bndbox/xmax/text()\")[0])\n",
    "    ymin = int(sel.xpath(\"//bndbox/ymin/text()\")[0])\n",
    "    ymax = int(sel.xpath(\"//bndbox/ymax/text()\")[0])\n",
    "    # Return the relative coordinates\n",
    "    return [xmin/width, ymin/height, xmax/width, ymax/height]"
   ]
  },
  {
   "cell_type": "code",
   "execution_count": 32,
   "id": "a762166b-cede-4aa3-a4ef-b55d696106da",
   "metadata": {},
   "outputs": [
    {
     "data": {
      "text/plain": [
       "[[0.8486328125, 0.806, 0.951171875, 0.993],\n",
       " [0.857421875, 0.298, 0.96044921875, 0.858],\n",
       " [0.47900390625, 0.182, 0.9990234375, 0.249],\n",
       " [0.3642578125, 0.017, 0.49365234375, 0.993],\n",
       " [0.3974609375, 0.017, 0.7431640625, 0.978]]"
      ]
     },
     "execution_count": 32,
     "metadata": {},
     "output_type": "execute_result"
    }
   ],
   "source": [
    "# Display the relative bounding box coordinates for the annotations\n",
    "coors = [to_labels(path) for path in xmls_path]\n",
    "coors[:5]"
   ]
  },
  {
   "cell_type": "code",
   "execution_count": 33,
   "id": "6f667dc0-e63e-495e-91a5-0ccc2926d395",
   "metadata": {},
   "outputs": [],
   "source": [
    "#Create a list of tuples.  Each tuple represents all the values in the annotations for a particular coordinate\n",
    "xmin, ymin, xmax, ymax = list(zip(*coors))"
   ]
  },
  {
   "cell_type": "code",
   "execution_count": 34,
   "id": "7ec536b6-12ea-4373-83c1-2da566eff5d7",
   "metadata": {},
   "outputs": [
    {
     "data": {
      "text/plain": [
       "((0.8486328125, 0.857421875, 0.47900390625, 0.3642578125, 0.3974609375),\n",
       " (0.806, 0.298, 0.182, 0.017, 0.017),\n",
       " (0.951171875, 0.96044921875, 0.9990234375, 0.49365234375, 0.7431640625),\n",
       " (0.993, 0.858, 0.249, 0.993, 0.978))"
      ]
     },
     "execution_count": 34,
     "metadata": {},
     "output_type": "execute_result"
    }
   ],
   "source": [
    "xmin[:5], ymin[:5], xmax[:5], ymax[:5]"
   ]
  },
  {
   "cell_type": "code",
   "execution_count": 35,
   "id": "0e8f79b9-3688-4cf0-aa02-0159788caac8",
   "metadata": {},
   "outputs": [],
   "source": [
    "# Convert to Numpy array.  Including the data frame values\n",
    "xmin = np.array(xmin)\n",
    "ymin = np.array(ymin)\n",
    "xmax = np.array(xmax)\n",
    "ymax = np.array(ymax)\n",
    "label = np.array(labels.values)"
   ]
  },
  {
   "cell_type": "code",
   "execution_count": 36,
   "id": "db3116e4-d116-4d94-8d35-3bf5c057c28d",
   "metadata": {},
   "outputs": [
    {
     "data": {
      "text/plain": [
       "(array([0.84863281, 0.85742188, 0.47900391, 0.36425781, 0.39746094]),\n",
       " array([0.806, 0.298, 0.182, 0.017, 0.017]),\n",
       " array([0.95117188, 0.96044922, 0.99902344, 0.49365234, 0.74316406]),\n",
       " array([0.993, 0.858, 0.249, 0.993, 0.978]),\n",
       " array([[1, 0, 0, 0, 0, 0, 0, 0, 0, 0],\n",
       "        [1, 0, 0, 0, 0, 0, 0, 0, 0, 0],\n",
       "        [0, 1, 0, 0, 0, 0, 0, 0, 0, 0],\n",
       "        [0, 0, 1, 0, 0, 0, 0, 0, 0, 0],\n",
       "        [0, 0, 1, 0, 0, 0, 0, 0, 0, 0]]))"
      ]
     },
     "execution_count": 36,
     "metadata": {},
     "output_type": "execute_result"
    }
   ],
   "source": [
    "xmin[:5], ymin[:5], xmax[:5], ymax[:5], label[:5]"
   ]
  },
  {
   "cell_type": "code",
   "execution_count": 37,
   "id": "b75f4ce0-d6f9-40d1-abcc-9707223f8865",
   "metadata": {},
   "outputs": [
    {
     "name": "stdout",
     "output_type": "stream",
     "text": [
      "(<tf.Tensor: shape=(), dtype=float64, numpy=0.8486328125>, <tf.Tensor: shape=(), dtype=float64, numpy=0.806>, <tf.Tensor: shape=(), dtype=float64, numpy=0.951171875>, <tf.Tensor: shape=(), dtype=float64, numpy=0.993>, <tf.Tensor: shape=(10,), dtype=int64, numpy=array([1, 0, 0, 0, 0, 0, 0, 0, 0, 0])>)\n"
     ]
    }
   ],
   "source": [
    "# Creates a Dataset whose elements are slices of the given tensors\n",
    "# Slicing a 1D tensor produces scalar tensor elements\n",
    "\n",
    "# A tensor is a fundamental data structure in machine learning and deep learning — it's essentially \n",
    "# a multi-dimensional array that generalizes scalars, vectors, and matrices.\n",
    "\n",
    "# A tensor is like a NumPy ndarray or a general-purpose container for numbers.\n",
    "# You can think of it as a box that can hold numbers in any number of dimensions.\n",
    "\n",
    "# Sliced in parallel into a data set of 5 elements\n",
    "# (xmin, ymin, xmax, ymax, label)\n",
    "# (0.84863281, 0.806, 0.95117188, 0.993, [1, 0, 0, 0, 0, 0, 0, 0, 0, 0])\n",
    "# (0.85742188, 0.298, 0.96044922, 0.858, [1, 0, 0, 0, 0, 0, 0, 0, 0, 0])\n",
    "# ...\n",
    "\n",
    "# The code builds a TensorFlow dataset where each element is a 5-tuple representing a bounding box and its label, \n",
    "# by slicing across the input sequences in parallel.\n",
    "\n",
    "labels_dataset = tf.data.Dataset.from_tensor_slices((xmin, ymin, xmax, ymax, label))\n",
    "for img in labels_dataset.take(1):\n",
    "    print(img)"
   ]
  },
  {
   "cell_type": "code",
   "execution_count": 38,
   "id": "20d24146-5c5f-4115-ac44-2e7f05441339",
   "metadata": {},
   "outputs": [],
   "source": [
    "# Each element of the labels_dataset looks like this\n",
    "# (\n",
    "#   ((xmin), (ymin), (xmax), (ymax), (label ([1, 0, 0, 0, 0, 0, 0, 0, 0, 0])))\n",
    "# )"
   ]
  },
  {
   "cell_type": "code",
   "execution_count": 39,
   "id": "12c538c3-0766-4609-8ea5-06aad5c1f5a7",
   "metadata": {},
   "outputs": [],
   "source": [
    "# Read a .jpg image from disk, resize it to 224x224 pixels, convert to format that TensorFlow can use from\n",
    "# training and normalize the pixel values to be between 0 and 1.\n",
    "def load_image(path):\n",
    "    # read raw bytes\n",
    "    image = tf.io.read_file(path)\n",
    "    # decode the image bytes into a usable image format and ensure it has 3 color channels (red, green, blue)\n",
    "    image = tf.image.decode_jpeg(image,3)       \n",
    "    # resize to 224x224 - common size  used in many pretrained models\n",
    "    image = tf.image.resize(image,[224,224])\n",
    "    # converts the pixel values to 32-bit floating point numbers (from integers).  Neural networks typically expect inputs\n",
    "    # as floating-point numbers also, when dividing by 255 we don't to truncate to 0 or 1.\n",
    "    image = tf.cast(image,tf.float32)  \n",
    "    image = image / 255\n",
    "    # normalize pixel values from [0-255] to [0.0-1.0]\n",
    "    return image"
   ]
  },
  {
   "cell_type": "code",
   "execution_count": 40,
   "id": "775c7a46-d2ff-4d33-8178-c6bc125b8cda",
   "metadata": {},
   "outputs": [
    {
     "data": {
      "text/plain": [
       "['data/images/images/crescent_gap/img_01_3402617700_00001.jpg']"
      ]
     },
     "execution_count": 40,
     "metadata": {},
     "output_type": "execute_result"
    }
   ],
   "source": [
    "imgs_train[:1]"
   ]
  },
  {
   "cell_type": "code",
   "execution_count": 41,
   "id": "e3f8ef6b-8acb-45df-b5d7-38ad6ae078ba",
   "metadata": {},
   "outputs": [
    {
     "data": {
      "text/plain": [
       "<_TensorSliceDataset element_spec=TensorSpec(shape=(), dtype=tf.string, name=None)>"
      ]
     },
     "execution_count": 41,
     "metadata": {},
     "output_type": "execute_result"
    }
   ],
   "source": [
    "# For feeding images into a convolutional neural network (CNN) for classification or detection\n",
    "# create a dataset where each item is an image tensor of shape (224, 224, 3) — a color image — and the pixel values are of type float32.\n",
    "# Takes a list of image file paths and creates a dataset where each elelment is a file path string\n",
    "dataset = tf.data.Dataset.from_tensor_slices(imgs_train)\n",
    "dataset"
   ]
  },
  {
   "cell_type": "code",
   "execution_count": 42,
   "id": "a31bb4dd-c8d6-4578-8f9c-7f7ef6480c55",
   "metadata": {},
   "outputs": [],
   "source": [
    "# Each element of the dataset looks like this\n",
    "# (\n",
    "#   (jpg filename path)\n",
    "# )"
   ]
  },
  {
   "cell_type": "code",
   "execution_count": 43,
   "id": "1a784743-9a24-4cdd-ae4a-e11129e07c38",
   "metadata": {},
   "outputs": [
    {
     "data": {
      "text/plain": [
       "<_MapDataset element_spec=TensorSpec(shape=(224, 224, 3), dtype=tf.float32, name=None)>"
      ]
     },
     "execution_count": 43,
     "metadata": {},
     "output_type": "execute_result"
    }
   ],
   "source": [
    "# each element in the dataset is a preprocessed image tensor (224 x 224 pixels with 3 color channels)\n",
    "dataset = dataset.map(load_image)\n",
    "dataset"
   ]
  },
  {
   "cell_type": "code",
   "execution_count": 44,
   "id": "4122d481-4a38-4ac3-94f3-ec56f38c43b8",
   "metadata": {},
   "outputs": [],
   "source": [
    "# Each element of the dataset now looks like this\n",
    "# (\n",
    "#   ([224 x 224 x 3] float32)\n",
    "# )"
   ]
  },
  {
   "cell_type": "code",
   "execution_count": 45,
   "id": "337f36fd-8b0b-42fd-b751-41ca5d69caac",
   "metadata": {},
   "outputs": [
    {
     "data": {
      "text/plain": [
       "<_ZipDataset element_spec=(TensorSpec(shape=(224, 224, 3), dtype=tf.float32, name=None), (TensorSpec(shape=(), dtype=tf.float64, name=None), TensorSpec(shape=(), dtype=tf.float64, name=None), TensorSpec(shape=(), dtype=tf.float64, name=None), TensorSpec(shape=(), dtype=tf.float64, name=None), TensorSpec(shape=(10,), dtype=tf.int64, name=None)))>"
      ]
     },
     "execution_count": 45,
     "metadata": {},
     "output_type": "execute_result"
    }
   ],
   "source": [
    "# Combine the two separate TensorFlow datasets — dataset (e.g. images) and labels_dataset (e.g. bounding boxes or class labels)\n",
    "# into a single dataset where each element is a pair: (image, label).\n",
    "dataset_label = tf.data.Dataset.zip((dataset, labels_dataset))\n",
    "dataset_label\n",
    "#for img in dataset_label.take(1):\n",
    "    #print(img)"
   ]
  },
  {
   "cell_type": "code",
   "execution_count": 46,
   "id": "70489f5e-495d-4f3f-b023-ccbf22191e6b",
   "metadata": {},
   "outputs": [],
   "source": [
    "# Each element of the dataset_label looks like this\n",
    "# (\n",
    "#   ([224 x 224 x 3] float32)\n",
    "#   ((xmin), (ymin), (xmax), (ymax), (label ([1, 0, 0, 0, 0, 0, 0, 0, 0, 0])))\n",
    "# )"
   ]
  },
  {
   "cell_type": "code",
   "execution_count": 47,
   "id": "69424841-71ab-44f0-a243-723cb10d8fd1",
   "metadata": {},
   "outputs": [],
   "source": [
    "# Configures the TensorFlow dataset pipeline for efficient training by applying several transformations in sequence.\n",
    "# repeat() = repeats the dataset indefinitely until you stop it (e.g., by setting steps_per_epoch in model.fit()).\n",
    "#    Without it, the dataset would run out after one pass.\n",
    "# shuffle(500) = Randomly shuffles the order of elements in the dataset.\n",
    "#    The argument 500 is the size of the shuffle buffer: TensorFlow maintains a buffer of 500 elements and randomly draws from it.\n",
    "# batch(batch_size) = Groups the data into batches of 32 samples. Instead of yielding one (image, label) pair at a time, \n",
    "#    the dataset now yields (batch_of_images, batch_of_labels).\n",
    "batch_size = 32\n",
    "dataset_label = dataset_label.repeat().shuffle(500).batch(batch_size)"
   ]
  },
  {
   "cell_type": "code",
   "execution_count": 48,
   "id": "563d85da-6658-4e04-8d88-a89e248eba27",
   "metadata": {},
   "outputs": [],
   "source": [
    "# Each element of the dataset_label looks like this\n",
    "# (\n",
    "#   image_batch,   32 x ([224 x 224 x 3] float32)\n",
    "#   label_batch    32 x (((xmin), (ymin), (xmax), (ymax), (label ([1, 0, 0, 0, 0, 0, 0, 0, 0, 0]))))\n",
    "# )\n",
    "\n",
    "# So now we have a dataset containing a batch of images [batch_size, 224, 224, 3] and a batch of labels, where each label is\n",
    "# a tuple containing a bounding box and classification info"
   ]
  },
  {
   "cell_type": "code",
   "execution_count": 49,
   "id": "5a5cb1cd-462a-4986-8f8f-2fa0e97e5f1e",
   "metadata": {},
   "outputs": [
    {
     "data": {
      "text/plain": [
       "(1824, 456)"
      ]
     },
     "execution_count": 49,
     "metadata": {},
     "output_type": "execute_result"
    }
   ],
   "source": [
    "# Split the dataset into 80% for training and 20% for testing\n",
    "train_count = int(len(imgs_train) * 0.8)\n",
    "test_count = int(len(imgs_train) * 0.2)\n",
    "train_count, test_count"
   ]
  },
  {
   "cell_type": "code",
   "execution_count": 50,
   "id": "c670fe88-5c7e-4aa2-b50a-ce15bf07b981",
   "metadata": {},
   "outputs": [
    {
     "data": {
      "text/plain": [
       "tensorflow.python.data.ops.batch_op._BatchDataset"
      ]
     },
     "execution_count": 50,
     "metadata": {},
     "output_type": "execute_result"
    }
   ],
   "source": [
    "type(dataset_label)"
   ]
  },
  {
   "cell_type": "code",
   "execution_count": 51,
   "id": "0fff0e5e-7956-4e1c-b8c0-e54d8cf7ad90",
   "metadata": {},
   "outputs": [],
   "source": [
    "train_dataset = dataset_label.skip(test_count)\n",
    "test_dataset = dataset_label.take(test_count)"
   ]
  },
  {
   "cell_type": "code",
   "execution_count": 52,
   "id": "b486f5c3-8e4a-4f50-b85c-60d2e6ba42e0",
   "metadata": {},
   "outputs": [
    {
     "data": {
      "text/plain": [
       "{'crescent_gap': 1,\n",
       " 'crease': 2,\n",
       " 'silk_spot': 3,\n",
       " 'water_spot': 4,\n",
       " 'welding_line': 5,\n",
       " 'inclusion': 6,\n",
       " 'oil_spot': 7,\n",
       " 'waist folding': 8,\n",
       " 'rolled_pit': 9,\n",
       " 'punching_hole': 10}"
      ]
     },
     "execution_count": 52,
     "metadata": {},
     "output_type": "execute_result"
    }
   ],
   "source": [
    "Class_dict"
   ]
  },
  {
   "cell_type": "code",
   "execution_count": 53,
   "id": "748d3788-30f3-42c2-8264-9508ecd09238",
   "metadata": {},
   "outputs": [
    {
     "data": {
      "text/plain": [
       "{1: 'crescent_gap',\n",
       " 2: 'crease',\n",
       " 3: 'silk_spot',\n",
       " 4: 'water_spot',\n",
       " 5: 'welding_line',\n",
       " 6: 'inclusion',\n",
       " 7: 'oil_spot',\n",
       " 8: 'waist folding',\n",
       " 9: 'rolled_pit',\n",
       " 10: 'punching_hole'}"
      ]
     },
     "execution_count": 53,
     "metadata": {},
     "output_type": "execute_result"
    }
   ],
   "source": [
    "# Flip the class dictionary\n",
    "class_dict = {v:k for k,v in Class_dict.items()}\n",
    "class_dict"
   ]
  },
  {
   "cell_type": "code",
   "execution_count": null,
   "id": "a0795612-ccfa-4cbc-8774-b1ff74590060",
   "metadata": {},
   "outputs": [],
   "source": [
    "# Display a sample training image with its label\n",
    "# Takes one batch from the train_dataset (which yields batches of images and labels).\n",
    "for img, label in train_dataset.take(1):\n",
    "    # show the first image in the batch. Convert the float pixel values in to PIL image that can be plotted\n",
    "    plt.imshow(keras.preprocessing.image.array_to_img(img[0]))\n",
    "    # Unpacks the label into its components (xmin tensor, ymin tensor, xmax tensor, ymax tensor, class one hot tensor\n",
    "    out1, out2, out3, out4, out5 = label\n",
    "    # Each outX is a batch of images so grap the first image and de-normalize the value from [0,1] back to [0,224]\n",
    "    xmin, ymin, xmax, ymax = out1[0].numpy()*224, out2[0].numpy()*224, out3[0].numpy()*224, out4[0].numpy()*224\n",
    "    # Creates a red rectangle object (bounding box) using matplotlib's Rectangle. \n",
    "    # The box is positioned at (xmin, ymin) with width/height derived from the bounding box coordinates.\n",
    "    rect = Rectangle((xmin,ymin),(xmax - xmin),(ymax - ymin), fill = False, color = \"r\")\n",
    "    # Gets the current axes object from matplotlib — needed to add custom shapes like rectangles.\n",
    "    ax = plt.gca()\n",
    "    # Adds the bounding box rectangle to the current image plot.\n",
    "    ax.axes.add_patch(rect)\n",
    "    # Creates a list to hold the predicted class label string for the image (though you're only adding one item here).\n",
    "    pred_imglist = []\n",
    "    # np.argmax(out5[0]) finds the index of the 1 in the one-hot vector (e.g., 2 if the class is 3).\n",
    "    # +1 assumes your class labels start at 1 rather than 0.\n",
    "    # class_dict[...] maps that numeric class ID to a human-readable string like \"dent\" or \"scratch\".\n",
    "    pred_imglist.append(class_dict[np.argmax(out5[0])+1])\n",
    "    plt.title(pred_imglist)\n",
    "    plt.show()"
   ]
  },
  {
   "cell_type": "code",
   "execution_count": null,
   "id": "0e0d2f9a-8b7e-4717-9cc0-ad55d1582014",
   "metadata": {},
   "outputs": [],
   "source": []
  },
  {
   "cell_type": "code",
   "execution_count": null,
   "id": "f7f95595-8372-486a-8ac8-2e796d0722ca",
   "metadata": {},
   "outputs": [],
   "source": []
  }
 ],
 "metadata": {
  "kernelspec": {
   "display_name": "Python 3 (ipykernel)",
   "language": "python",
   "name": "python3"
  },
  "language_info": {
   "codemirror_mode": {
    "name": "ipython",
    "version": 3
   },
   "file_extension": ".py",
   "mimetype": "text/x-python",
   "name": "python",
   "nbconvert_exporter": "python",
   "pygments_lexer": "ipython3",
   "version": "3.12.10"
  }
 },
 "nbformat": 4,
 "nbformat_minor": 5
}
