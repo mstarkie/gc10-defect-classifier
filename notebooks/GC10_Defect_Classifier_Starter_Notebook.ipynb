{
 "cells": [
  {
   "cell_type": "code",
   "execution_count": 75,
   "id": "5ee3fd2c-8539-46f0-9f04-4f013d33407c",
   "metadata": {},
   "outputs": [],
   "source": [
    "import tensorflow as tf\n",
    "from tensorflow import keras\n",
    "import matplotlib.pyplot as plt\n",
    "import numpy as np\n",
    "import pandas as pd\n",
    "import glob\n",
    "import random\n",
    "import os\n",
    "from matplotlib.patches import Rectangle\n",
    "from lxml import etree\n",
    "from sklearn.preprocessing import LabelBinarizer\n",
    "# Enable Matplotlib backend for displaying static images\n",
    "%matplotlib inline"
   ]
  },
  {
   "cell_type": "code",
   "execution_count": 76,
   "id": "4d4690b0-4064-4999-8a25-33c9c56f83d1",
   "metadata": {},
   "outputs": [
    {
     "data": {
      "text/plain": [
       "['crease',\n",
       " 'crescent_gap',\n",
       " 'inclusion',\n",
       " 'oil_spot',\n",
       " 'punching_hole',\n",
       " 'rolled_pit',\n",
       " 'silk_spot',\n",
       " 'waist folding',\n",
       " 'water_spot',\n",
       " 'welding_line']"
      ]
     },
     "execution_count": 76,
     "metadata": {},
     "output_type": "execute_result"
    }
   ],
   "source": [
    "# Subfolders for the class labels\n",
    "os.listdir(\"data/images/images\")"
   ]
  },
  {
   "cell_type": "code",
   "execution_count": 77,
   "id": "382371c9-ea35-48c1-a482-0d615ceff99b",
   "metadata": {},
   "outputs": [
    {
     "data": {
      "text/plain": [
       "['img_01_3402617700_00001.xml',\n",
       " 'img_01_3402617700_01009.xml',\n",
       " 'img_01_3436789500_00004.xml',\n",
       " 'img_01_3436814600_00259.xml',\n",
       " 'img_01_3436815300_00473.xml']"
      ]
     },
     "execution_count": 77,
     "metadata": {},
     "output_type": "execute_result"
    }
   ],
   "source": [
    "# Annotations of the class labels\n",
    "os.listdir(\"data/label/label\")[:5]"
   ]
  },
  {
   "cell_type": "code",
   "execution_count": 78,
   "id": "0462eaab-9851-4d7b-b3c7-e03df6a396a2",
   "metadata": {},
   "outputs": [],
   "source": [
    "# Read all the images and count the number of image paths in the training subfolders\n",
    "image_path = glob.glob(\"data/images/images/*/*.jpg\")\n",
    "# Normalize slashes to one format first\n",
    "image_path = [p.replace('\\\\', '/') for p in image_path]"
   ]
  },
  {
   "cell_type": "code",
   "execution_count": 79,
   "id": "12ade83f-0485-41cc-a317-362720880f36",
   "metadata": {},
   "outputs": [
    {
     "data": {
      "text/plain": [
       "2306"
      ]
     },
     "execution_count": 79,
     "metadata": {},
     "output_type": "execute_result"
    }
   ],
   "source": [
    "len(image_path)"
   ]
  },
  {
   "cell_type": "code",
   "execution_count": 80,
   "id": "fdfa5840-ece5-4572-8098-379884ef0b6e",
   "metadata": {},
   "outputs": [],
   "source": [
    "# Read all the annotation files and count the number of annotations in the training label folder\n",
    "xmls_path = glob.glob(\"data/label/label/*.xml\")\n",
    "# Normalize slashes to one format first\n",
    "xmls_path = [p.replace('\\\\', '/') for p in xmls_path]"
   ]
  },
  {
   "cell_type": "code",
   "execution_count": 81,
   "id": "812e994b-3ff9-4280-9270-096105b581f0",
   "metadata": {},
   "outputs": [
    {
     "data": {
      "text/plain": [
       "2280"
      ]
     },
     "execution_count": 81,
     "metadata": {},
     "output_type": "execute_result"
    }
   ],
   "source": [
    "len(xmls_path)"
   ]
  },
  {
   "cell_type": "code",
   "execution_count": 82,
   "id": "ae2079ea-e57f-4a29-b89c-23076af3675c",
   "metadata": {},
   "outputs": [
    {
     "data": {
      "text/plain": [
       "['data/label/label/img_01_3402617700_00001.xml',\n",
       " 'data/label/label/img_01_3402617700_01009.xml',\n",
       " 'data/label/label/img_01_3436789500_00004.xml',\n",
       " 'data/label/label/img_01_3436814600_00259.xml',\n",
       " 'data/label/label/img_01_3436815300_00473.xml']"
      ]
     },
     "execution_count": 82,
     "metadata": {},
     "output_type": "execute_result"
    }
   ],
   "source": [
    "xmls_path[:5]"
   ]
  },
  {
   "cell_type": "code",
   "execution_count": 83,
   "id": "293c9a7b-446a-4c66-b6f8-97b89290a081",
   "metadata": {},
   "outputs": [],
   "source": [
    "# Sort the annotation and image files in ascending order\n",
    "# The filenames are identical except for the extension.  This allows for a correct mapping of image to annotation by index.\n",
    "xmls_path.sort(key = lambda x:x.split(\"/\")[-1].split(\".xml\")[0])\n",
    "image_path.sort(key = lambda x:x.split(\"/\")[-1].split(\".jpg\")[0])"
   ]
  },
  {
   "cell_type": "code",
   "execution_count": 84,
   "id": "b0337f6a-32bb-47ca-b8b9-4289ddf8f2a3",
   "metadata": {},
   "outputs": [
    {
     "data": {
      "text/plain": [
       "['data/label/label/img_01_3402617700_00001.xml',\n",
       " 'data/label/label/img_01_3402617700_01009.xml',\n",
       " 'data/label/label/img_01_3436789500_00004.xml',\n",
       " 'data/label/label/img_01_3436814600_00259.xml',\n",
       " 'data/label/label/img_01_3436815300_00473.xml']"
      ]
     },
     "execution_count": 84,
     "metadata": {},
     "output_type": "execute_result"
    }
   ],
   "source": [
    "xmls_path[:5]"
   ]
  },
  {
   "cell_type": "code",
   "execution_count": 85,
   "id": "4c59c026-04c2-4254-bc69-a68c2ed71b66",
   "metadata": {},
   "outputs": [
    {
     "data": {
      "text/plain": [
       "['data/images/images/crescent_gap/img_01_3402617700_00001.jpg',\n",
       " 'data/images/images/crescent_gap/img_01_3402617700_01009.jpg',\n",
       " 'data/images/images/crease/img_01_3436789500_00004.jpg',\n",
       " 'data/images/images/silk_spot/img_01_3436814600_00259.jpg',\n",
       " 'data/images/images/silk_spot/img_01_3436815300_00473.jpg']"
      ]
     },
     "execution_count": 85,
     "metadata": {},
     "output_type": "execute_result"
    }
   ],
   "source": [
    "image_path[:5]"
   ]
  },
  {
   "cell_type": "code",
   "execution_count": 86,
   "id": "a6e60036-7c84-4236-92df-d871d9cbb5d1",
   "metadata": {},
   "outputs": [],
   "source": [
    "# Extract the annotation filename without extension\n",
    "xmls_train = [path.split(\"/\")[-1].split(\".\")[0] for path in xmls_path]"
   ]
  },
  {
   "cell_type": "code",
   "execution_count": 87,
   "id": "88ea9675-3a08-4020-a654-5b9a77de79f3",
   "metadata": {},
   "outputs": [
    {
     "data": {
      "text/plain": [
       "['img_01_3402617700_00001',\n",
       " 'img_01_3402617700_01009',\n",
       " 'img_01_3436789500_00004',\n",
       " 'img_01_3436814600_00259',\n",
       " 'img_01_3436815300_00473']"
      ]
     },
     "execution_count": 87,
     "metadata": {},
     "output_type": "execute_result"
    }
   ],
   "source": [
    "xmls_train[:5]"
   ]
  },
  {
   "cell_type": "code",
   "execution_count": 88,
   "id": "2e06ef65-beb1-40e8-b808-fd4b26ca35bb",
   "metadata": {},
   "outputs": [
    {
     "data": {
      "text/plain": [
       "['data/images/images/crescent_gap/img_01_3402617700_00001.jpg',\n",
       " 'data/images/images/crescent_gap/img_01_3402617700_01009.jpg',\n",
       " 'data/images/images/crease/img_01_3436789500_00004.jpg',\n",
       " 'data/images/images/silk_spot/img_01_3436814600_00259.jpg',\n",
       " 'data/images/images/silk_spot/img_01_3436815300_00473.jpg']"
      ]
     },
     "execution_count": 88,
     "metadata": {},
     "output_type": "execute_result"
    }
   ],
   "source": [
    "# Retrieve the image filename that have a corresponding annotation file. Not all images have annotations (defects)\n",
    "# This will be the training set of images.\n",
    "imgs_train = [img for img in image_path if (img.split(\"/\")[-1].split)(\".jpg\")[0] in xmls_train]\n",
    "imgs_train[:5]"
   ]
  },
  {
   "cell_type": "code",
   "execution_count": 89,
   "id": "697644f2-6197-4cd4-9336-57514eb8816e",
   "metadata": {},
   "outputs": [
    {
     "data": {
      "text/plain": [
       "(2280, 2280)"
      ]
     },
     "execution_count": 89,
     "metadata": {},
     "output_type": "execute_result"
    }
   ],
   "source": [
    "# Ensure equal counts of training images with the annotations\n",
    "len(imgs_train),len(xmls_train)"
   ]
  },
  {
   "cell_type": "code",
   "execution_count": 90,
   "id": "fdf4f28b-3472-4efc-9219-c03c76a646af",
   "metadata": {},
   "outputs": [],
   "source": [
    "#########################\n",
    "# SET UP THE DATA FRAME #\n",
    "#########################"
   ]
  },
  {
   "cell_type": "code",
   "execution_count": 91,
   "id": "836e7237-e54d-4f42-83db-d0ef9edd7a04",
   "metadata": {},
   "outputs": [
    {
     "data": {
      "text/plain": [
       "['crescent_gap',\n",
       " 'crescent_gap',\n",
       " 'crease',\n",
       " 'silk_spot',\n",
       " 'silk_spot',\n",
       " 'silk_spot',\n",
       " 'silk_spot',\n",
       " 'silk_spot',\n",
       " 'crescent_gap',\n",
       " 'crescent_gap',\n",
       " 'crescent_gap',\n",
       " 'crescent_gap',\n",
       " 'crescent_gap',\n",
       " 'crescent_gap',\n",
       " 'crescent_gap']"
      ]
     },
     "execution_count": 91,
     "metadata": {},
     "output_type": "execute_result"
    }
   ],
   "source": [
    "# Extract class label from the path of each image file\n",
    "labels = [label.split(\"/\")[-2] for label in imgs_train]\n",
    "labels[:15]"
   ]
  },
  {
   "cell_type": "code",
   "execution_count": 92,
   "id": "85a9df80-0ae6-4bf8-bed8-66a780cd522f",
   "metadata": {},
   "outputs": [
    {
     "data": {
      "text/html": [
       "<div>\n",
       "<style scoped>\n",
       "    .dataframe tbody tr th:only-of-type {\n",
       "        vertical-align: middle;\n",
       "    }\n",
       "\n",
       "    .dataframe tbody tr th {\n",
       "        vertical-align: top;\n",
       "    }\n",
       "\n",
       "    .dataframe thead th {\n",
       "        text-align: right;\n",
       "    }\n",
       "</style>\n",
       "<table border=\"1\" class=\"dataframe\">\n",
       "  <thead>\n",
       "    <tr style=\"text-align: right;\">\n",
       "      <th></th>\n",
       "      <th>Defect Type</th>\n",
       "    </tr>\n",
       "  </thead>\n",
       "  <tbody>\n",
       "    <tr>\n",
       "      <th>0</th>\n",
       "      <td>crescent_gap</td>\n",
       "    </tr>\n",
       "    <tr>\n",
       "      <th>1</th>\n",
       "      <td>crescent_gap</td>\n",
       "    </tr>\n",
       "    <tr>\n",
       "      <th>2</th>\n",
       "      <td>crease</td>\n",
       "    </tr>\n",
       "    <tr>\n",
       "      <th>3</th>\n",
       "      <td>silk_spot</td>\n",
       "    </tr>\n",
       "    <tr>\n",
       "      <th>4</th>\n",
       "      <td>silk_spot</td>\n",
       "    </tr>\n",
       "    <tr>\n",
       "      <th>...</th>\n",
       "      <td>...</td>\n",
       "    </tr>\n",
       "    <tr>\n",
       "      <th>2275</th>\n",
       "      <td>silk_spot</td>\n",
       "    </tr>\n",
       "    <tr>\n",
       "      <th>2276</th>\n",
       "      <td>silk_spot</td>\n",
       "    </tr>\n",
       "    <tr>\n",
       "      <th>2277</th>\n",
       "      <td>silk_spot</td>\n",
       "    </tr>\n",
       "    <tr>\n",
       "      <th>2278</th>\n",
       "      <td>silk_spot</td>\n",
       "    </tr>\n",
       "    <tr>\n",
       "      <th>2279</th>\n",
       "      <td>crescent_gap</td>\n",
       "    </tr>\n",
       "  </tbody>\n",
       "</table>\n",
       "<p>2280 rows × 1 columns</p>\n",
       "</div>"
      ],
      "text/plain": [
       "       Defect Type\n",
       "0     crescent_gap\n",
       "1     crescent_gap\n",
       "2           crease\n",
       "3        silk_spot\n",
       "4        silk_spot\n",
       "...            ...\n",
       "2275     silk_spot\n",
       "2276     silk_spot\n",
       "2277     silk_spot\n",
       "2278     silk_spot\n",
       "2279  crescent_gap\n",
       "\n",
       "[2280 rows x 1 columns]"
      ]
     },
     "execution_count": 92,
     "metadata": {},
     "output_type": "execute_result"
    }
   ],
   "source": [
    "# Convert the labels into a Pandas DataFrame for the class labels and call them Defect Types\n",
    "dataFrame = pd.DataFrame(labels, columns = [\"Defect Type\"])\n",
    "dataFrame"
   ]
  },
  {
   "cell_type": "code",
   "execution_count": 93,
   "id": "ce47b232-7e94-4650-a326-dd126c1c1945",
   "metadata": {},
   "outputs": [],
   "source": [
    "# Obtain training labels without duplication\n",
    "Class = dataFrame[\"Defect Type\"].unique()"
   ]
  },
  {
   "cell_type": "code",
   "execution_count": 94,
   "id": "eb4fa112-1378-4ed2-9930-78ee005af010",
   "metadata": {},
   "outputs": [
    {
     "name": "stdout",
     "output_type": "stream",
     "text": [
      "['crescent_gap' 'crease' 'silk_spot' 'water_spot' 'welding_line'\n",
      " 'inclusion' 'oil_spot' 'waist folding' 'rolled_pit' 'punching_hole']\n"
     ]
    }
   ],
   "source": [
    "print(Class)"
   ]
  },
  {
   "cell_type": "code",
   "execution_count": 95,
   "id": "dd7fe588-cd6e-4ed2-bd20-f5b89f3e6491",
   "metadata": {},
   "outputs": [
    {
     "name": "stdout",
     "output_type": "stream",
     "text": [
      "[('crescent_gap', 1), ('crease', 2), ('silk_spot', 3), ('water_spot', 4), ('welding_line', 5), ('inclusion', 6), ('oil_spot', 7), ('waist folding', 8), ('rolled_pit', 9), ('punching_hole', 10)]\n"
     ]
    }
   ],
   "source": [
    "# Pair each element in Class with a corresponding number starting from 1\n",
    "zip_result = list(zip(Class, range(1, len(Class) + 1)))\n",
    "print(zip_result)"
   ]
  },
  {
   "cell_type": "code",
   "execution_count": 96,
   "id": "7010f587-4e78-4c89-914c-c6ec2a50cf6c",
   "metadata": {},
   "outputs": [
    {
     "data": {
      "text/plain": [
       "{'crescent_gap': 1,\n",
       " 'crease': 2,\n",
       " 'silk_spot': 3,\n",
       " 'water_spot': 4,\n",
       " 'welding_line': 5,\n",
       " 'inclusion': 6,\n",
       " 'oil_spot': 7,\n",
       " 'waist folding': 8,\n",
       " 'rolled_pit': 9,\n",
       " 'punching_hole': 10}"
      ]
     },
     "execution_count": 96,
     "metadata": {},
     "output_type": "execute_result"
    }
   ],
   "source": [
    "# Transform the tuple into a map of defect type to it's numerical reference (defect class index)\n",
    "Class_dict = dict(zip_result)\n",
    "Class_dict"
   ]
  },
  {
   "cell_type": "code",
   "execution_count": 97,
   "id": "e10c6afe-fe01-44b8-96e1-e59ddee66269",
   "metadata": {},
   "outputs": [
    {
     "data": {
      "text/html": [
       "<div>\n",
       "<style scoped>\n",
       "    .dataframe tbody tr th:only-of-type {\n",
       "        vertical-align: middle;\n",
       "    }\n",
       "\n",
       "    .dataframe tbody tr th {\n",
       "        vertical-align: top;\n",
       "    }\n",
       "\n",
       "    .dataframe thead th {\n",
       "        text-align: right;\n",
       "    }\n",
       "</style>\n",
       "<table border=\"1\" class=\"dataframe\">\n",
       "  <thead>\n",
       "    <tr style=\"text-align: right;\">\n",
       "      <th></th>\n",
       "      <th>Defect Type</th>\n",
       "      <th>Class</th>\n",
       "    </tr>\n",
       "  </thead>\n",
       "  <tbody>\n",
       "    <tr>\n",
       "      <th>0</th>\n",
       "      <td>crescent_gap</td>\n",
       "      <td>1</td>\n",
       "    </tr>\n",
       "    <tr>\n",
       "      <th>1</th>\n",
       "      <td>crescent_gap</td>\n",
       "      <td>1</td>\n",
       "    </tr>\n",
       "    <tr>\n",
       "      <th>2</th>\n",
       "      <td>crease</td>\n",
       "      <td>2</td>\n",
       "    </tr>\n",
       "    <tr>\n",
       "      <th>3</th>\n",
       "      <td>silk_spot</td>\n",
       "      <td>3</td>\n",
       "    </tr>\n",
       "    <tr>\n",
       "      <th>4</th>\n",
       "      <td>silk_spot</td>\n",
       "      <td>3</td>\n",
       "    </tr>\n",
       "    <tr>\n",
       "      <th>...</th>\n",
       "      <td>...</td>\n",
       "      <td>...</td>\n",
       "    </tr>\n",
       "    <tr>\n",
       "      <th>2275</th>\n",
       "      <td>silk_spot</td>\n",
       "      <td>3</td>\n",
       "    </tr>\n",
       "    <tr>\n",
       "      <th>2276</th>\n",
       "      <td>silk_spot</td>\n",
       "      <td>3</td>\n",
       "    </tr>\n",
       "    <tr>\n",
       "      <th>2277</th>\n",
       "      <td>silk_spot</td>\n",
       "      <td>3</td>\n",
       "    </tr>\n",
       "    <tr>\n",
       "      <th>2278</th>\n",
       "      <td>silk_spot</td>\n",
       "      <td>3</td>\n",
       "    </tr>\n",
       "    <tr>\n",
       "      <th>2279</th>\n",
       "      <td>crescent_gap</td>\n",
       "      <td>1</td>\n",
       "    </tr>\n",
       "  </tbody>\n",
       "</table>\n",
       "<p>2280 rows × 2 columns</p>\n",
       "</div>"
      ],
      "text/plain": [
       "       Defect Type  Class\n",
       "0     crescent_gap      1\n",
       "1     crescent_gap      1\n",
       "2           crease      2\n",
       "3        silk_spot      3\n",
       "4        silk_spot      3\n",
       "...            ...    ...\n",
       "2275     silk_spot      3\n",
       "2276     silk_spot      3\n",
       "2277     silk_spot      3\n",
       "2278     silk_spot      3\n",
       "2279  crescent_gap      1\n",
       "\n",
       "[2280 rows x 2 columns]"
      ]
     },
     "execution_count": 97,
     "metadata": {},
     "output_type": "execute_result"
    }
   ],
   "source": [
    "# Create a new column called \"Class\" in the data frome and store the corresponding defect index\n",
    "dataFrame[\"Class\"] = dataFrame[\"Defect Type\"].apply(lambda x: Class_dict[x])\n",
    "dataFrame"
   ]
  },
  {
   "cell_type": "code",
   "execution_count": 98,
   "id": "40c121c2-2f9a-4cd5-a28d-c6dd7cfd0878",
   "metadata": {},
   "outputs": [
    {
     "data": {
      "text/plain": [
       "array([[1, 0, 0, 0, 0, 0, 0, 0, 0, 0],\n",
       "       [1, 0, 0, 0, 0, 0, 0, 0, 0, 0],\n",
       "       [0, 1, 0, 0, 0, 0, 0, 0, 0, 0],\n",
       "       [0, 0, 1, 0, 0, 0, 0, 0, 0, 0],\n",
       "       [0, 0, 1, 0, 0, 0, 0, 0, 0, 0]])"
      ]
     },
     "execution_count": 98,
     "metadata": {},
     "output_type": "execute_result"
    }
   ],
   "source": [
    "# Convert the class dictionary into binary vectors for easier processing.\n",
    "# Set up a One-hot encoding to represent the classification types.  A one-hot encoded vector is a way of representing categorical values as binary vectors\n",
    "# where exactly one element is 1 (the \"hot\" one) and all others are 0.  Each  is assigned a binary vector of 10 with the bit for the\n",
    "# specific defect type turned \"on\".\n",
    "lb = LabelBinarizer()\n",
    "# Fit it to the class dictionary\n",
    "lb.fit(list(Class_dict.values()))\n",
    "# Convert multi-class labels to binary labels (belong or does not belong) to the labels\n",
    "binary_labels = lb.transform(dataFrame[\"Class\"])\n",
    "binary_labels[:5]"
   ]
  },
  {
   "cell_type": "code",
   "execution_count": 99,
   "id": "70251aac-aa0a-4b48-9961-7d3f79af51b1",
   "metadata": {},
   "outputs": [
    {
     "data": {
      "text/plain": [
       "(2280, 10)"
      ]
     },
     "execution_count": 99,
     "metadata": {},
     "output_type": "execute_result"
    }
   ],
   "source": [
    "binary_labels.shape"
   ]
  },
  {
   "cell_type": "code",
   "execution_count": 100,
   "id": "405cb886-68d7-41d5-8114-407d249ef967",
   "metadata": {},
   "outputs": [],
   "source": [
    "# Create some new columns corresponding to the class index\n",
    "y_bin_labels = [] \n",
    "for i in range(binary_labels.shape[1]):\n",
    "    y_bin_labels.append(\"Class\" + str(i))\n",
    "    # Add the columns to the data frame.\n",
    "    dataFrame[\"Class\" + str(i + 1)] = binary_labels[:, i]"
   ]
  },
  {
   "cell_type": "code",
   "execution_count": 101,
   "id": "e079eb22-1658-4af4-9e14-0a1f57fc6bd8",
   "metadata": {},
   "outputs": [
    {
     "data": {
      "text/plain": [
       "['Class0',\n",
       " 'Class1',\n",
       " 'Class2',\n",
       " 'Class3',\n",
       " 'Class4',\n",
       " 'Class5',\n",
       " 'Class6',\n",
       " 'Class7',\n",
       " 'Class8',\n",
       " 'Class9']"
      ]
     },
     "execution_count": 101,
     "metadata": {},
     "output_type": "execute_result"
    }
   ],
   "source": [
    "y_bin_labels[:10]"
   ]
  },
  {
   "cell_type": "code",
   "execution_count": 102,
   "id": "c3c1c4d8-fbfb-402f-a028-e4f92a5622f5",
   "metadata": {},
   "outputs": [
    {
     "data": {
      "text/html": [
       "<div>\n",
       "<style scoped>\n",
       "    .dataframe tbody tr th:only-of-type {\n",
       "        vertical-align: middle;\n",
       "    }\n",
       "\n",
       "    .dataframe tbody tr th {\n",
       "        vertical-align: top;\n",
       "    }\n",
       "\n",
       "    .dataframe thead th {\n",
       "        text-align: right;\n",
       "    }\n",
       "</style>\n",
       "<table border=\"1\" class=\"dataframe\">\n",
       "  <thead>\n",
       "    <tr style=\"text-align: right;\">\n",
       "      <th></th>\n",
       "      <th>Defect Type</th>\n",
       "      <th>Class</th>\n",
       "      <th>Class1</th>\n",
       "      <th>Class2</th>\n",
       "      <th>Class3</th>\n",
       "      <th>Class4</th>\n",
       "      <th>Class5</th>\n",
       "      <th>Class6</th>\n",
       "      <th>Class7</th>\n",
       "      <th>Class8</th>\n",
       "      <th>Class9</th>\n",
       "      <th>Class10</th>\n",
       "    </tr>\n",
       "  </thead>\n",
       "  <tbody>\n",
       "    <tr>\n",
       "      <th>0</th>\n",
       "      <td>crescent_gap</td>\n",
       "      <td>1</td>\n",
       "      <td>1</td>\n",
       "      <td>0</td>\n",
       "      <td>0</td>\n",
       "      <td>0</td>\n",
       "      <td>0</td>\n",
       "      <td>0</td>\n",
       "      <td>0</td>\n",
       "      <td>0</td>\n",
       "      <td>0</td>\n",
       "      <td>0</td>\n",
       "    </tr>\n",
       "    <tr>\n",
       "      <th>1</th>\n",
       "      <td>crescent_gap</td>\n",
       "      <td>1</td>\n",
       "      <td>1</td>\n",
       "      <td>0</td>\n",
       "      <td>0</td>\n",
       "      <td>0</td>\n",
       "      <td>0</td>\n",
       "      <td>0</td>\n",
       "      <td>0</td>\n",
       "      <td>0</td>\n",
       "      <td>0</td>\n",
       "      <td>0</td>\n",
       "    </tr>\n",
       "    <tr>\n",
       "      <th>2</th>\n",
       "      <td>crease</td>\n",
       "      <td>2</td>\n",
       "      <td>0</td>\n",
       "      <td>1</td>\n",
       "      <td>0</td>\n",
       "      <td>0</td>\n",
       "      <td>0</td>\n",
       "      <td>0</td>\n",
       "      <td>0</td>\n",
       "      <td>0</td>\n",
       "      <td>0</td>\n",
       "      <td>0</td>\n",
       "    </tr>\n",
       "    <tr>\n",
       "      <th>3</th>\n",
       "      <td>silk_spot</td>\n",
       "      <td>3</td>\n",
       "      <td>0</td>\n",
       "      <td>0</td>\n",
       "      <td>1</td>\n",
       "      <td>0</td>\n",
       "      <td>0</td>\n",
       "      <td>0</td>\n",
       "      <td>0</td>\n",
       "      <td>0</td>\n",
       "      <td>0</td>\n",
       "      <td>0</td>\n",
       "    </tr>\n",
       "    <tr>\n",
       "      <th>4</th>\n",
       "      <td>silk_spot</td>\n",
       "      <td>3</td>\n",
       "      <td>0</td>\n",
       "      <td>0</td>\n",
       "      <td>1</td>\n",
       "      <td>0</td>\n",
       "      <td>0</td>\n",
       "      <td>0</td>\n",
       "      <td>0</td>\n",
       "      <td>0</td>\n",
       "      <td>0</td>\n",
       "      <td>0</td>\n",
       "    </tr>\n",
       "    <tr>\n",
       "      <th>...</th>\n",
       "      <td>...</td>\n",
       "      <td>...</td>\n",
       "      <td>...</td>\n",
       "      <td>...</td>\n",
       "      <td>...</td>\n",
       "      <td>...</td>\n",
       "      <td>...</td>\n",
       "      <td>...</td>\n",
       "      <td>...</td>\n",
       "      <td>...</td>\n",
       "      <td>...</td>\n",
       "      <td>...</td>\n",
       "    </tr>\n",
       "    <tr>\n",
       "      <th>2275</th>\n",
       "      <td>silk_spot</td>\n",
       "      <td>3</td>\n",
       "      <td>0</td>\n",
       "      <td>0</td>\n",
       "      <td>1</td>\n",
       "      <td>0</td>\n",
       "      <td>0</td>\n",
       "      <td>0</td>\n",
       "      <td>0</td>\n",
       "      <td>0</td>\n",
       "      <td>0</td>\n",
       "      <td>0</td>\n",
       "    </tr>\n",
       "    <tr>\n",
       "      <th>2276</th>\n",
       "      <td>silk_spot</td>\n",
       "      <td>3</td>\n",
       "      <td>0</td>\n",
       "      <td>0</td>\n",
       "      <td>1</td>\n",
       "      <td>0</td>\n",
       "      <td>0</td>\n",
       "      <td>0</td>\n",
       "      <td>0</td>\n",
       "      <td>0</td>\n",
       "      <td>0</td>\n",
       "      <td>0</td>\n",
       "    </tr>\n",
       "    <tr>\n",
       "      <th>2277</th>\n",
       "      <td>silk_spot</td>\n",
       "      <td>3</td>\n",
       "      <td>0</td>\n",
       "      <td>0</td>\n",
       "      <td>1</td>\n",
       "      <td>0</td>\n",
       "      <td>0</td>\n",
       "      <td>0</td>\n",
       "      <td>0</td>\n",
       "      <td>0</td>\n",
       "      <td>0</td>\n",
       "      <td>0</td>\n",
       "    </tr>\n",
       "    <tr>\n",
       "      <th>2278</th>\n",
       "      <td>silk_spot</td>\n",
       "      <td>3</td>\n",
       "      <td>0</td>\n",
       "      <td>0</td>\n",
       "      <td>1</td>\n",
       "      <td>0</td>\n",
       "      <td>0</td>\n",
       "      <td>0</td>\n",
       "      <td>0</td>\n",
       "      <td>0</td>\n",
       "      <td>0</td>\n",
       "      <td>0</td>\n",
       "    </tr>\n",
       "    <tr>\n",
       "      <th>2279</th>\n",
       "      <td>crescent_gap</td>\n",
       "      <td>1</td>\n",
       "      <td>1</td>\n",
       "      <td>0</td>\n",
       "      <td>0</td>\n",
       "      <td>0</td>\n",
       "      <td>0</td>\n",
       "      <td>0</td>\n",
       "      <td>0</td>\n",
       "      <td>0</td>\n",
       "      <td>0</td>\n",
       "      <td>0</td>\n",
       "    </tr>\n",
       "  </tbody>\n",
       "</table>\n",
       "<p>2280 rows × 12 columns</p>\n",
       "</div>"
      ],
      "text/plain": [
       "       Defect Type  Class  Class1  Class2  Class3  Class4  Class5  Class6  \\\n",
       "0     crescent_gap      1       1       0       0       0       0       0   \n",
       "1     crescent_gap      1       1       0       0       0       0       0   \n",
       "2           crease      2       0       1       0       0       0       0   \n",
       "3        silk_spot      3       0       0       1       0       0       0   \n",
       "4        silk_spot      3       0       0       1       0       0       0   \n",
       "...            ...    ...     ...     ...     ...     ...     ...     ...   \n",
       "2275     silk_spot      3       0       0       1       0       0       0   \n",
       "2276     silk_spot      3       0       0       1       0       0       0   \n",
       "2277     silk_spot      3       0       0       1       0       0       0   \n",
       "2278     silk_spot      3       0       0       1       0       0       0   \n",
       "2279  crescent_gap      1       1       0       0       0       0       0   \n",
       "\n",
       "      Class7  Class8  Class9  Class10  \n",
       "0          0       0       0        0  \n",
       "1          0       0       0        0  \n",
       "2          0       0       0        0  \n",
       "3          0       0       0        0  \n",
       "4          0       0       0        0  \n",
       "...      ...     ...     ...      ...  \n",
       "2275       0       0       0        0  \n",
       "2276       0       0       0        0  \n",
       "2277       0       0       0        0  \n",
       "2278       0       0       0        0  \n",
       "2279       0       0       0        0  \n",
       "\n",
       "[2280 rows x 12 columns]"
      ]
     },
     "execution_count": 102,
     "metadata": {},
     "output_type": "execute_result"
    }
   ],
   "source": [
    "dataFrame"
   ]
  },
  {
   "cell_type": "code",
   "execution_count": 103,
   "id": "39b89080-d79e-4ed6-8647-34f9d61f6e72",
   "metadata": {},
   "outputs": [],
   "source": [
    "# Above you see the english name of the classification plus both the associated numeric (Class) and binary classfications."
   ]
  },
  {
   "cell_type": "code",
   "execution_count": 104,
   "id": "ab18d9a9-e20f-4a94-91c8-ae1ee3b18989",
   "metadata": {},
   "outputs": [],
   "source": [
    "# Drop the English and numerical classfication columns because the machine doesn't need them.\n",
    "dataFrame.drop(\"Class\", axis = 1, inplace = True)\n",
    "dataFrame.drop(\"Defect Type\", axis = 1, inplace = True)"
   ]
  },
  {
   "cell_type": "code",
   "execution_count": 105,
   "id": "dd897006-1b7b-4b85-949c-0efacd460560",
   "metadata": {},
   "outputs": [
    {
     "data": {
      "text/html": [
       "<div>\n",
       "<style scoped>\n",
       "    .dataframe tbody tr th:only-of-type {\n",
       "        vertical-align: middle;\n",
       "    }\n",
       "\n",
       "    .dataframe tbody tr th {\n",
       "        vertical-align: top;\n",
       "    }\n",
       "\n",
       "    .dataframe thead th {\n",
       "        text-align: right;\n",
       "    }\n",
       "</style>\n",
       "<table border=\"1\" class=\"dataframe\">\n",
       "  <thead>\n",
       "    <tr style=\"text-align: right;\">\n",
       "      <th></th>\n",
       "      <th>Class1</th>\n",
       "      <th>Class2</th>\n",
       "      <th>Class3</th>\n",
       "      <th>Class4</th>\n",
       "      <th>Class5</th>\n",
       "      <th>Class6</th>\n",
       "      <th>Class7</th>\n",
       "      <th>Class8</th>\n",
       "      <th>Class9</th>\n",
       "      <th>Class10</th>\n",
       "    </tr>\n",
       "  </thead>\n",
       "  <tbody>\n",
       "    <tr>\n",
       "      <th>0</th>\n",
       "      <td>1</td>\n",
       "      <td>0</td>\n",
       "      <td>0</td>\n",
       "      <td>0</td>\n",
       "      <td>0</td>\n",
       "      <td>0</td>\n",
       "      <td>0</td>\n",
       "      <td>0</td>\n",
       "      <td>0</td>\n",
       "      <td>0</td>\n",
       "    </tr>\n",
       "    <tr>\n",
       "      <th>1</th>\n",
       "      <td>1</td>\n",
       "      <td>0</td>\n",
       "      <td>0</td>\n",
       "      <td>0</td>\n",
       "      <td>0</td>\n",
       "      <td>0</td>\n",
       "      <td>0</td>\n",
       "      <td>0</td>\n",
       "      <td>0</td>\n",
       "      <td>0</td>\n",
       "    </tr>\n",
       "    <tr>\n",
       "      <th>2</th>\n",
       "      <td>0</td>\n",
       "      <td>1</td>\n",
       "      <td>0</td>\n",
       "      <td>0</td>\n",
       "      <td>0</td>\n",
       "      <td>0</td>\n",
       "      <td>0</td>\n",
       "      <td>0</td>\n",
       "      <td>0</td>\n",
       "      <td>0</td>\n",
       "    </tr>\n",
       "    <tr>\n",
       "      <th>3</th>\n",
       "      <td>0</td>\n",
       "      <td>0</td>\n",
       "      <td>1</td>\n",
       "      <td>0</td>\n",
       "      <td>0</td>\n",
       "      <td>0</td>\n",
       "      <td>0</td>\n",
       "      <td>0</td>\n",
       "      <td>0</td>\n",
       "      <td>0</td>\n",
       "    </tr>\n",
       "    <tr>\n",
       "      <th>4</th>\n",
       "      <td>0</td>\n",
       "      <td>0</td>\n",
       "      <td>1</td>\n",
       "      <td>0</td>\n",
       "      <td>0</td>\n",
       "      <td>0</td>\n",
       "      <td>0</td>\n",
       "      <td>0</td>\n",
       "      <td>0</td>\n",
       "      <td>0</td>\n",
       "    </tr>\n",
       "    <tr>\n",
       "      <th>...</th>\n",
       "      <td>...</td>\n",
       "      <td>...</td>\n",
       "      <td>...</td>\n",
       "      <td>...</td>\n",
       "      <td>...</td>\n",
       "      <td>...</td>\n",
       "      <td>...</td>\n",
       "      <td>...</td>\n",
       "      <td>...</td>\n",
       "      <td>...</td>\n",
       "    </tr>\n",
       "    <tr>\n",
       "      <th>2275</th>\n",
       "      <td>0</td>\n",
       "      <td>0</td>\n",
       "      <td>1</td>\n",
       "      <td>0</td>\n",
       "      <td>0</td>\n",
       "      <td>0</td>\n",
       "      <td>0</td>\n",
       "      <td>0</td>\n",
       "      <td>0</td>\n",
       "      <td>0</td>\n",
       "    </tr>\n",
       "    <tr>\n",
       "      <th>2276</th>\n",
       "      <td>0</td>\n",
       "      <td>0</td>\n",
       "      <td>1</td>\n",
       "      <td>0</td>\n",
       "      <td>0</td>\n",
       "      <td>0</td>\n",
       "      <td>0</td>\n",
       "      <td>0</td>\n",
       "      <td>0</td>\n",
       "      <td>0</td>\n",
       "    </tr>\n",
       "    <tr>\n",
       "      <th>2277</th>\n",
       "      <td>0</td>\n",
       "      <td>0</td>\n",
       "      <td>1</td>\n",
       "      <td>0</td>\n",
       "      <td>0</td>\n",
       "      <td>0</td>\n",
       "      <td>0</td>\n",
       "      <td>0</td>\n",
       "      <td>0</td>\n",
       "      <td>0</td>\n",
       "    </tr>\n",
       "    <tr>\n",
       "      <th>2278</th>\n",
       "      <td>0</td>\n",
       "      <td>0</td>\n",
       "      <td>1</td>\n",
       "      <td>0</td>\n",
       "      <td>0</td>\n",
       "      <td>0</td>\n",
       "      <td>0</td>\n",
       "      <td>0</td>\n",
       "      <td>0</td>\n",
       "      <td>0</td>\n",
       "    </tr>\n",
       "    <tr>\n",
       "      <th>2279</th>\n",
       "      <td>1</td>\n",
       "      <td>0</td>\n",
       "      <td>0</td>\n",
       "      <td>0</td>\n",
       "      <td>0</td>\n",
       "      <td>0</td>\n",
       "      <td>0</td>\n",
       "      <td>0</td>\n",
       "      <td>0</td>\n",
       "      <td>0</td>\n",
       "    </tr>\n",
       "  </tbody>\n",
       "</table>\n",
       "<p>2280 rows × 10 columns</p>\n",
       "</div>"
      ],
      "text/plain": [
       "      Class1  Class2  Class3  Class4  Class5  Class6  Class7  Class8  Class9  \\\n",
       "0          1       0       0       0       0       0       0       0       0   \n",
       "1          1       0       0       0       0       0       0       0       0   \n",
       "2          0       1       0       0       0       0       0       0       0   \n",
       "3          0       0       1       0       0       0       0       0       0   \n",
       "4          0       0       1       0       0       0       0       0       0   \n",
       "...      ...     ...     ...     ...     ...     ...     ...     ...     ...   \n",
       "2275       0       0       1       0       0       0       0       0       0   \n",
       "2276       0       0       1       0       0       0       0       0       0   \n",
       "2277       0       0       1       0       0       0       0       0       0   \n",
       "2278       0       0       1       0       0       0       0       0       0   \n",
       "2279       1       0       0       0       0       0       0       0       0   \n",
       "\n",
       "      Class10  \n",
       "0           0  \n",
       "1           0  \n",
       "2           0  \n",
       "3           0  \n",
       "4           0  \n",
       "...       ...  \n",
       "2275        0  \n",
       "2276        0  \n",
       "2277        0  \n",
       "2278        0  \n",
       "2279        0  \n",
       "\n",
       "[2280 rows x 10 columns]"
      ]
     },
     "execution_count": 105,
     "metadata": {},
     "output_type": "execute_result"
    }
   ],
   "source": [
    "# Display the current data frame\n",
    "dataFrame"
   ]
  },
  {
   "cell_type": "code",
   "execution_count": 106,
   "id": "887a99bd-9bbf-4c6d-872a-c72d84fe1283",
   "metadata": {},
   "outputs": [],
   "source": [
    "# Function to parse and extract information from an annotation file and normalize bounding-box coordinates between 0,1\n",
    "# Relative bounding box coordinates express positions and dimensions as fractions of the image size, making them resolution-independent.\n",
    "def to_labels(path):\n",
    "    # Read the annotation file\n",
    "    xml = open(\"{}\".format(path)).read()                         \n",
    "    sel = etree.HTML(xml)\n",
    "    # Obtain the image width\n",
    "    width = int(sel.xpath(\"//size/width/text()\")[0])\n",
    "    # Obtain the image height\n",
    "    height = int(sel.xpath(\"//size/height/text()\")[0])  \n",
    "    # Extract the bounding box coordinates\n",
    "    xmin = int(sel.xpath(\"//bndbox/xmin/text()\")[0])\n",
    "    xmax = int(sel.xpath(\"//bndbox/xmax/text()\")[0])\n",
    "    ymin = int(sel.xpath(\"//bndbox/ymin/text()\")[0])\n",
    "    ymax = int(sel.xpath(\"//bndbox/ymax/text()\")[0])\n",
    "    # Return the relative coordinates\n",
    "    return [xmin/width, ymin/height, xmax/width, ymax/height]"
   ]
  },
  {
   "cell_type": "code",
   "execution_count": 107,
   "id": "a762166b-cede-4aa3-a4ef-b55d696106da",
   "metadata": {},
   "outputs": [
    {
     "data": {
      "text/plain": [
       "[[0.8486328125, 0.806, 0.951171875, 0.993],\n",
       " [0.857421875, 0.298, 0.96044921875, 0.858],\n",
       " [0.47900390625, 0.182, 0.9990234375, 0.249],\n",
       " [0.3642578125, 0.017, 0.49365234375, 0.993],\n",
       " [0.3974609375, 0.017, 0.7431640625, 0.978]]"
      ]
     },
     "execution_count": 107,
     "metadata": {},
     "output_type": "execute_result"
    }
   ],
   "source": [
    "# Display the relative bounding box coordinates for the annotations\n",
    "coords = [to_labels(path) for path in xmls_path]\n",
    "coords[:5]"
   ]
  },
  {
   "cell_type": "code",
   "execution_count": 108,
   "id": "6f667dc0-e63e-495e-91a5-0ccc2926d395",
   "metadata": {},
   "outputs": [],
   "source": [
    "# Transpose the coordinates and return lists for tuple element\n",
    "# Keep in mind that the lists are sorted the same as both xmls_path and image_path\n",
    "xmin, ymin, xmax, ymax = zip(*coords)"
   ]
  },
  {
   "cell_type": "code",
   "execution_count": 109,
   "id": "7ec536b6-12ea-4373-83c1-2da566eff5d7",
   "metadata": {},
   "outputs": [
    {
     "data": {
      "text/plain": [
       "((0.8486328125, 0.857421875, 0.47900390625, 0.3642578125, 0.3974609375),\n",
       " (0.806, 0.298, 0.182, 0.017, 0.017),\n",
       " (0.951171875, 0.96044921875, 0.9990234375, 0.49365234375, 0.7431640625),\n",
       " (0.993, 0.858, 0.249, 0.993, 0.978))"
      ]
     },
     "execution_count": 109,
     "metadata": {},
     "output_type": "execute_result"
    }
   ],
   "source": [
    "xmin[:5], ymin[:5], xmax[:5], ymax[:5]"
   ]
  },
  {
   "cell_type": "code",
   "execution_count": 110,
   "id": "0e8f79b9-3688-4cf0-aa02-0159788caac8",
   "metadata": {},
   "outputs": [],
   "source": [
    "# Convert to Numpy array.  Including the data frame values\n",
    "xmin = np.array(xmin)\n",
    "ymin = np.array(ymin)\n",
    "xmax = np.array(xmax)\n",
    "ymax = np.array(ymax)\n",
    "label_vector = np.array(dataFrame.values)"
   ]
  },
  {
   "cell_type": "code",
   "execution_count": 111,
   "id": "db3116e4-d116-4d94-8d35-3bf5c057c28d",
   "metadata": {},
   "outputs": [
    {
     "data": {
      "text/plain": [
       "(array([0.84863281, 0.85742188, 0.47900391, 0.36425781, 0.39746094]),\n",
       " array([0.806, 0.298, 0.182, 0.017, 0.017]),\n",
       " array([0.95117188, 0.96044922, 0.99902344, 0.49365234, 0.74316406]),\n",
       " array([0.993, 0.858, 0.249, 0.993, 0.978]),\n",
       " array([[1, 0, 0, 0, 0, 0, 0, 0, 0, 0],\n",
       "        [1, 0, 0, 0, 0, 0, 0, 0, 0, 0],\n",
       "        [0, 1, 0, 0, 0, 0, 0, 0, 0, 0],\n",
       "        [0, 0, 1, 0, 0, 0, 0, 0, 0, 0],\n",
       "        [0, 0, 1, 0, 0, 0, 0, 0, 0, 0]]))"
      ]
     },
     "execution_count": 111,
     "metadata": {},
     "output_type": "execute_result"
    }
   ],
   "source": [
    "xmin[:5], ymin[:5], xmax[:5], ymax[:5], label_vector[:5]"
   ]
  },
  {
   "cell_type": "code",
   "execution_count": 112,
   "id": "b75f4ce0-d6f9-40d1-abcc-9707223f8865",
   "metadata": {},
   "outputs": [
    {
     "name": "stdout",
     "output_type": "stream",
     "text": [
      "(<tf.Tensor: shape=(), dtype=float64, numpy=0.8486328125>, <tf.Tensor: shape=(), dtype=float64, numpy=0.806>, <tf.Tensor: shape=(), dtype=float64, numpy=0.951171875>, <tf.Tensor: shape=(), dtype=float64, numpy=0.993>, <tf.Tensor: shape=(10,), dtype=int64, numpy=array([1, 0, 0, 0, 0, 0, 0, 0, 0, 0])>)\n"
     ]
    }
   ],
   "source": [
    "# Creates a Dataset whose elements are slices of the given tensors\n",
    "# Slicing a 1D tensor produces scalar tensor elements\n",
    "\n",
    "# A tensor is a fundamental data structure in machine learning and deep learning — it's essentially \n",
    "# a multi-dimensional array that generalizes scalars, vectors, and matrices.\n",
    "\n",
    "# A tensor is like a NumPy ndarray or a general-purpose container for numbers.\n",
    "# You can think of it as a box that can hold numbers in any number of dimensions.\n",
    "\n",
    "# Sliced in parallel into a data set of 5 elements\n",
    "# (xmin, ymin, xmax, ymax, label_vector)\n",
    "# (0.84863281, 0.806, 0.95117188, 0.993, [1, 0, 0, 0, 0, 0, 0, 0, 0, 0])\n",
    "# (0.85742188, 0.298, 0.96044922, 0.858, [1, 0, 0, 0, 0, 0, 0, 0, 0, 0])\n",
    "# ...\n",
    "\n",
    "# The code builds a TensorFlow dataset where each element is a 5-tuple representing a bounding box and its label, \n",
    "# by slicing across the input sequences in parallel.\n",
    "\n",
    "labels_dataset = tf.data.Dataset.from_tensor_slices((xmin, ymin, xmax, ymax, label_vector))\n",
    "for img in labels_dataset.take(1):\n",
    "    print(img)"
   ]
  },
  {
   "cell_type": "code",
   "execution_count": 113,
   "id": "20d24146-5c5f-4115-ac44-2e7f05441339",
   "metadata": {},
   "outputs": [],
   "source": [
    "# A tensor Dataset is an iterator where...\n",
    "# Each element of the labels_dataset looks like this\n",
    "#   xmin, ymin, xmax, ymax, [1, 0, 0, 0, 0, 0, 0, 0, 0, 0]"
   ]
  },
  {
   "cell_type": "code",
   "execution_count": 114,
   "id": "538f11b9-3f78-4fb6-95e9-d60de9d81836",
   "metadata": {},
   "outputs": [
    {
     "data": {
      "text/plain": [
       "(TensorSpec(shape=(), dtype=tf.float64, name=None),\n",
       " TensorSpec(shape=(), dtype=tf.float64, name=None),\n",
       " TensorSpec(shape=(), dtype=tf.float64, name=None),\n",
       " TensorSpec(shape=(), dtype=tf.float64, name=None),\n",
       " TensorSpec(shape=(10,), dtype=tf.int64, name=None))"
      ]
     },
     "execution_count": 114,
     "metadata": {},
     "output_type": "execute_result"
    }
   ],
   "source": [
    "labels_dataset.element_spec"
   ]
  },
  {
   "cell_type": "code",
   "execution_count": 115,
   "id": "12c538c3-0766-4609-8ea5-06aad5c1f5a7",
   "metadata": {},
   "outputs": [],
   "source": [
    "# Read a .jpg image from disk, resize it to 224x224 pixels, convert to format that TensorFlow can use from\n",
    "# training and normalize the pixel values to be between 0 and 1.\n",
    "def load_image(path):\n",
    "    # read raw bytes\n",
    "    image = tf.io.read_file(path)\n",
    "    # decode the image bytes into a usable image format and ensure it has 3 color channels (red, green, blue)\n",
    "    image = tf.image.decode_jpeg(image,3)       \n",
    "    # resize to 224x224 - common size  used in many pretrained models\n",
    "    image = tf.image.resize(image,[224,224])\n",
    "    # converts the pixel values to 32-bit floating point numbers (from integers).  Neural networks typically expect inputs\n",
    "    # as floating-point numbers also, when dividing by 255 we don't to truncate to 0 or 1.\n",
    "    image = tf.cast(image,tf.float32)  \n",
    "    image = image / 255\n",
    "    # normalize pixel values from [0-255] to [0.0-1.0]\n",
    "    return image"
   ]
  },
  {
   "cell_type": "code",
   "execution_count": 116,
   "id": "775c7a46-d2ff-4d33-8178-c6bc125b8cda",
   "metadata": {},
   "outputs": [
    {
     "data": {
      "text/plain": [
       "['data/images/images/crescent_gap/img_01_3402617700_00001.jpg']"
      ]
     },
     "execution_count": 116,
     "metadata": {},
     "output_type": "execute_result"
    }
   ],
   "source": [
    "imgs_train[:1]"
   ]
  },
  {
   "cell_type": "code",
   "execution_count": 117,
   "id": "e3f8ef6b-8acb-45df-b5d7-38ad6ae078ba",
   "metadata": {},
   "outputs": [
    {
     "data": {
      "text/plain": [
       "TensorSpec(shape=(), dtype=tf.string, name=None)"
      ]
     },
     "execution_count": 117,
     "metadata": {},
     "output_type": "execute_result"
    }
   ],
   "source": [
    "# For feeding images into a convolutional neural network (CNN) for classification or detection\n",
    "# create a dataset where each item is an image tensor of shape (224, 224, 3) — a color image — and the pixel values are of type float32.\n",
    "# Takes a list of image file paths and creates a dataset where each elelment is a file path string\n",
    "img_dataset = tf.data.Dataset.from_tensor_slices(imgs_train)\n",
    "img_dataset.element_spec"
   ]
  },
  {
   "cell_type": "code",
   "execution_count": 118,
   "id": "788ead42-cb88-46cf-8088-9524892b252a",
   "metadata": {},
   "outputs": [
    {
     "name": "stdout",
     "output_type": "stream",
     "text": [
      "tf.Tensor(b'data/images/images/crescent_gap/img_01_3402617700_00001.jpg', shape=(), dtype=string)\n"
     ]
    }
   ],
   "source": [
    "for img in img_dataset.take(1):\n",
    "    print(img)"
   ]
  },
  {
   "cell_type": "code",
   "execution_count": 119,
   "id": "a31bb4dd-c8d6-4578-8f9c-7f7ef6480c55",
   "metadata": {},
   "outputs": [],
   "source": [
    "# Each element of the img_dataset looks like this\n",
    "#   jpg image filepath string"
   ]
  },
  {
   "cell_type": "code",
   "execution_count": 120,
   "id": "1a784743-9a24-4cdd-ae4a-e11129e07c38",
   "metadata": {},
   "outputs": [
    {
     "data": {
      "text/plain": [
       "<_MapDataset element_spec=TensorSpec(shape=(224, 224, 3), dtype=tf.float32, name=None)>"
      ]
     },
     "execution_count": 120,
     "metadata": {},
     "output_type": "execute_result"
    }
   ],
   "source": [
    "# Map (apply) the load_image function to img_dataset\n",
    "# each element in the img_dataset is a preprocessed image tensor (224 x 224 pixels with 3 color channels)\n",
    "img_dataset = img_dataset.map(load_image)\n",
    "img_dataset"
   ]
  },
  {
   "cell_type": "code",
   "execution_count": 121,
   "id": "4122d481-4a38-4ac3-94f3-ec56f38c43b8",
   "metadata": {},
   "outputs": [],
   "source": [
    "# Each element of the img_dataset now looks like this\n",
    "#   [224 x 224 x 3] array of pixels as float32 numbers\n",
    "#   224 columns X 224 rows, where each cell is a normalized array of RGB intensities [0.8, 0.2, 0.1]"
   ]
  },
  {
   "cell_type": "code",
   "execution_count": 122,
   "id": "337f36fd-8b0b-42fd-b751-41ca5d69caac",
   "metadata": {},
   "outputs": [
    {
     "data": {
      "text/plain": [
       "(TensorSpec(shape=(224, 224, 3), dtype=tf.float32, name=None),\n",
       " (TensorSpec(shape=(), dtype=tf.float64, name=None),\n",
       "  TensorSpec(shape=(), dtype=tf.float64, name=None),\n",
       "  TensorSpec(shape=(), dtype=tf.float64, name=None),\n",
       "  TensorSpec(shape=(), dtype=tf.float64, name=None),\n",
       "  TensorSpec(shape=(10,), dtype=tf.int64, name=None)))"
      ]
     },
     "execution_count": 122,
     "metadata": {},
     "output_type": "execute_result"
    }
   ],
   "source": [
    "# Combine the two separate TensorFlow datasets — dataset (e.g. images) and labels_dataset (e.g. bounding boxes or class labels)\n",
    "# into a single dataset where each element is a pair: (image, label).\n",
    "dataset_label = tf.data.Dataset.zip((img_dataset, labels_dataset))\n",
    "dataset_label.element_spec\n",
    "#for img in dataset_label.take(1):\n",
    "    #print(img)"
   ]
  },
  {
   "cell_type": "code",
   "execution_count": 123,
   "id": "70489f5e-495d-4f3f-b023-ccbf22191e6b",
   "metadata": {},
   "outputs": [],
   "source": [
    "# Each element of the dataset_label looks like this\n",
    "# 1. The image:\n",
    "#   [224 x 224 x 3] array of pixels as float32 numbers\n",
    "# 2. Where is the defect and what kind of defect.\n",
    "#   xmin, ymin, xmax, ymax, [1, 0, 0, 0, 0, 0, 0, 0, 0, 0]"
   ]
  },
  {
   "cell_type": "code",
   "execution_count": 124,
   "id": "69424841-71ab-44f0-a243-723cb10d8fd1",
   "metadata": {},
   "outputs": [
    {
     "data": {
      "text/plain": [
       "(TensorSpec(shape=(None, 224, 224, 3), dtype=tf.float32, name=None),\n",
       " (TensorSpec(shape=(None,), dtype=tf.float64, name=None),\n",
       "  TensorSpec(shape=(None,), dtype=tf.float64, name=None),\n",
       "  TensorSpec(shape=(None,), dtype=tf.float64, name=None),\n",
       "  TensorSpec(shape=(None,), dtype=tf.float64, name=None),\n",
       "  TensorSpec(shape=(None, 10), dtype=tf.int64, name=None)))"
      ]
     },
     "execution_count": 124,
     "metadata": {},
     "output_type": "execute_result"
    }
   ],
   "source": [
    "# Configures the TensorFlow dataset pipeline for efficient training by applying several transformations in sequence.\n",
    "# repeat() = repeats the dataset indefinitely until you stop it (e.g., by setting steps_per_epoch in model.fit()).\n",
    "#    Without it, the dataset would run out after one pass.\n",
    "# shuffle(500) = Randomly shuffles the order of elements in the dataset.\n",
    "#    The argument 500 is the size of the shuffle buffer: TensorFlow maintains a buffer of 500 elements and randomly draws from it.\n",
    "# batch(batch_size) = Groups the data into batches of 32 samples. Instead of yielding one (image, label) pair at a time, \n",
    "#    the dataset now yields (batch_of_images, batch_of_labels).\n",
    "batch_size = 32\n",
    "dataset_label = dataset_label.repeat().shuffle(500).batch(batch_size)\n",
    "dataset_label.element_spec"
   ]
  },
  {
   "cell_type": "code",
   "execution_count": 125,
   "id": "5a5cb1cd-462a-4986-8f8f-2fa0e97e5f1e",
   "metadata": {},
   "outputs": [
    {
     "data": {
      "text/plain": [
       "(1824, 456)"
      ]
     },
     "execution_count": 125,
     "metadata": {},
     "output_type": "execute_result"
    }
   ],
   "source": [
    "# Split the dataset into 80% for training and 20% for testing\n",
    "train_count = int(len(imgs_train) * 0.8)\n",
    "test_count = int(len(imgs_train) * 0.2)\n",
    "train_count, test_count"
   ]
  },
  {
   "cell_type": "code",
   "execution_count": 126,
   "id": "c670fe88-5c7e-4aa2-b50a-ce15bf07b981",
   "metadata": {},
   "outputs": [
    {
     "data": {
      "text/plain": [
       "tensorflow.python.data.ops.batch_op._BatchDataset"
      ]
     },
     "execution_count": 126,
     "metadata": {},
     "output_type": "execute_result"
    }
   ],
   "source": [
    "type(dataset_label)"
   ]
  },
  {
   "cell_type": "code",
   "execution_count": 127,
   "id": "0fff0e5e-7956-4e1c-b8c0-e54d8cf7ad90",
   "metadata": {},
   "outputs": [],
   "source": [
    "train_dataset = dataset_label.skip(test_count)\n",
    "test_dataset = dataset_label.take(test_count)"
   ]
  },
  {
   "cell_type": "code",
   "execution_count": 128,
   "id": "b486f5c3-8e4a-4f50-b85c-60d2e6ba42e0",
   "metadata": {},
   "outputs": [
    {
     "data": {
      "text/plain": [
       "{'crescent_gap': 1,\n",
       " 'crease': 2,\n",
       " 'silk_spot': 3,\n",
       " 'water_spot': 4,\n",
       " 'welding_line': 5,\n",
       " 'inclusion': 6,\n",
       " 'oil_spot': 7,\n",
       " 'waist folding': 8,\n",
       " 'rolled_pit': 9,\n",
       " 'punching_hole': 10}"
      ]
     },
     "execution_count": 128,
     "metadata": {},
     "output_type": "execute_result"
    }
   ],
   "source": [
    "Class_dict"
   ]
  },
  {
   "cell_type": "code",
   "execution_count": 129,
   "id": "748d3788-30f3-42c2-8264-9508ecd09238",
   "metadata": {},
   "outputs": [
    {
     "data": {
      "text/plain": [
       "{1: 'crescent_gap',\n",
       " 2: 'crease',\n",
       " 3: 'silk_spot',\n",
       " 4: 'water_spot',\n",
       " 5: 'welding_line',\n",
       " 6: 'inclusion',\n",
       " 7: 'oil_spot',\n",
       " 8: 'waist folding',\n",
       " 9: 'rolled_pit',\n",
       " 10: 'punching_hole'}"
      ]
     },
     "execution_count": 129,
     "metadata": {},
     "output_type": "execute_result"
    }
   ],
   "source": [
    "# Flip the class dictionary\n",
    "class_dict = {v:k for k,v in Class_dict.items()}\n",
    "class_dict"
   ]
  },
  {
   "cell_type": "code",
   "execution_count": 130,
   "id": "a0795612-ccfa-4cbc-8774-b1ff74590060",
   "metadata": {},
   "outputs": [
    {
     "data": {
      "image/png": "[encoded data removed]",
      "text/plain": [
       "<Figure size 640x480 with 1 Axes>"
      ]
     },
     "metadata": {},
     "output_type": "display_data"
    }
   ],
   "source": [
    "# Display a sample training image with its label\n",
    "# Takes one batch from the train_dataset (which yields batches of images and labels).\n",
    "for img, label in train_dataset.take(1):\n",
    "    # show the first image in the batch. Convert the float pixel values in to PIL image that can be plotted\n",
    "    plt.imshow(keras.preprocessing.image.array_to_img(img[0]))\n",
    "    # Unpacks the label into its components (xmin tensor, ymin tensor, xmax tensor, ymax tensor, class one hot tensor\n",
    "    out1, out2, out3, out4, out5 = label\n",
    "    # Each outX is a batch of images so grap the first image and de-normalize the value from [0,1] back to [0,224]\n",
    "    xmin, ymin, xmax, ymax = out1[0].numpy()*224, out2[0].numpy()*224, out3[0].numpy()*224, out4[0].numpy()*224\n",
    "    # Creates a red rectangle object (bounding box) using matplotlib's Rectangle. \n",
    "    # The box is positioned at (xmin, ymin) with width/height derived from the bounding box coordinates.\n",
    "    rect = Rectangle((xmin,ymin),(xmax - xmin),(ymax - ymin), fill = False, color = \"r\")\n",
    "    # Gets the current axes object from matplotlib — needed to add custom shapes like rectangles.\n",
    "    ax = plt.gca()\n",
    "    # Adds the bounding box rectangle to the current image plot.\n",
    "    ax.axes.add_patch(rect)\n",
    "    # Creates a list to hold the predicted class label string for the image (though you're only adding one item here).\n",
    "    pred_imglist = []\n",
    "    # np.argmax(out5[0]) finds the index of the 1 in the one-hot vector (e.g., 2 if the class is 3).\n",
    "    # +1 assumes your class labels start at 1 rather than 0.\n",
    "    # class_dict[...] maps that numeric class ID to a human-readable string like \"dent\" or \"scratch\".\n",
    "    pred_imglist.append(class_dict[np.argmax(out5[0])+1])\n",
    "    plt.title(pred_imglist)\n",
    "    plt.show()"
   ]
  },
  {
   "cell_type": "code",
   "execution_count": 131,
   "id": "0e0d2f9a-8b7e-4717-9cc0-ad55d1582014",
   "metadata": {},
   "outputs": [],
   "source": [
    "# Import VGG16 model with pre-trained weights from ImageNet\n",
    "# loads the VGG16 neural network, pre-trained on the ImageNet dataset, without its final classification layer (top), \n",
    "# and sets it up to accept images of shape 224×224 with 3 color channels (RGB).\n",
    "# pooling='avg'. This turns the final convolutional feature maps into a single feature vector by averaging across the spatial dimensions.\n",
    "# Output is a flat vector instead of a 3D feature map — which makes it easier to connect to a custom classification head later.\n",
    "# This way, you can train your own classifier on top of VGG16’s powerful features, even with a smaller dataset.\n",
    "#\n",
    "# Summary: This code loads a pre-trained VGG16 model without the final classification layer, ready to be used as a feature extractor \n",
    "# for your own image classification or object detection task.\n",
    "#base_vgg16 = tf.keras.applications.VGG16(weights = \"imagenet\", include_top = False, input_shape = (224,224,3), pooling = 'avg')\n",
    "\n",
    "# Big Picture: What is this model doing?\n",
    "# Imagine a robot with eyes (VGG16). You show it an image (e.g., of a metal part), and it:\n",
    "# Figures out where a defect is — like drawing a red box around it (xmin, ymin, xmax, ymax)\n",
    "# Decides what kind of defect it is — like saying “scratch” or “dent” (classification)\n",
    "# So this model is doing two tasks at once:\n",
    "# Object localization (bounding box regression)\n",
    "# Object classification (what kind of thing is in the box)\n",
    "# It's like a 3-part assembly line:\n",
    "# [Image] → [Feature Extractor] → [Two Output Heads: Bounding Box + Class]\n",
    "\n",
    "base_vgg16 = tf.keras.applications.VGG16(weights = 'data/misc/vgg16_weights_tf_dim_ordering_tf_kernels_notop.h5', include_top = False, input_shape = (224,224,3), pooling = 'avg')"
   ]
  },
  {
   "cell_type": "code",
   "execution_count": 132,
   "id": "f7f95595-8372-486a-8ac8-2e796d0722ca",
   "metadata": {},
   "outputs": [],
   "source": [
    "# The robot is trainiable\n",
    "base_vgg16.trainable = True"
   ]
  },
  {
   "cell_type": "code",
   "execution_count": 133,
   "id": "a23b3033-0ae8-4902-95c5-4c3ae9378dc1",
   "metadata": {},
   "outputs": [],
   "source": [
    "# Dear robot, expect each input to look like an image that’s 224x224 pixels with 3 color channels (RGB).\n",
    "# (height, width, channels) = (224, 224, 3)\n",
    "# In Keras Functional API, each time you pass a tensor through a layer, you're chaining a step in the computation graph. \n",
    "# That flow determines the model hierarchy.\n",
    "# - input_layer_1\n",
    "inputs = keras.Input(shape = (224,224,3))"
   ]
  },
  {
   "cell_type": "code",
   "execution_count": 134,
   "id": "c81c34aa-5d3c-4b76-9130-23a48675c243",
   "metadata": {},
   "outputs": [
    {
     "data": {
      "text/plain": [
       "(None, 512)"
      ]
     },
     "execution_count": 134,
     "metadata": {},
     "output_type": "execute_result"
    }
   ],
   "source": [
    "# This will be a 1D feature vector — a kind of \"summary\" of what the model sees in the image.\n",
    "# Robot, When a real image of shape (224, 224, 3) comes in, this is how it should flow through VGG16 to produce a 512-dimensional output.\n",
    "# We're building a flowchart here (a graph of how data should move) not doing any real compution yet.\n",
    "# - input_layer_1 --> vgg16\n",
    "x = base_vgg16(inputs)\n",
    "x.shape"
   ]
  },
  {
   "cell_type": "code",
   "execution_count": 135,
   "id": "13ca996f-1950-466d-99de-1e4d6fba2e35",
   "metadata": {},
   "outputs": [],
   "source": [
    "# Head #1: \n",
    "# Bounding Box (Where is the object?)\n",
    "# Think of this as a machine that processes features into spatial understanding. \n",
    "# It transforms abstract visual features into more concrete location information.\n",
    "# - input_layer_1 --> vgg16 --> dense (optionally name=\"dense\")\n",
    "# Create a layer object and pass the output of vgg16 (x) to it and return a new tensor value (x1)\n",
    "x1 = keras.layers.Dense(1024, activation = \"relu\")(x) #dense\n",
    "# - input_layer_1 --> vgg16 --> dense_1\n",
    "# feed x1 into another dense layer a with 512 units and override x1 with the new output\n",
    "x1 = keras.layers.Dense(512, activation = \"relu\")(x1) #dense_1"
   ]
  },
  {
   "cell_type": "code",
   "execution_count": 136,
   "id": "ab1b3a01-745d-498b-b655-a0e8870d160a",
   "metadata": {},
   "outputs": [],
   "source": [
    "# The machine outputs four floating-point numbers, one for each corner of the bounding box — as if drawing a box around a defect.\n",
    "# Where is the defect\n",
    "# - input_layer_1 --> vgg16 --> dense_1 --> xmin\n",
    "out1 = keras.layers.Dense(1, name = \"xmin\")(x1)\n",
    "# - input_layer_1 --> vgg16 --> dense_1 --> ymin\n",
    "out2 = keras.layers.Dense(1, name = \"ymin\")(x1)\n",
    "# - input_layer_1 --> vgg16 --> dense_1 --> xmax\n",
    "out3 = keras.layers.Dense(1, name = \"xmax\")(x1)\n",
    "# - input_layer_1 --> vgg16 --> dense_1 --> ymax\n",
    "out4 = keras.layers.Dense(1, name = \"ymax\")(x1)"
   ]
  },
  {
   "cell_type": "code",
   "execution_count": 137,
   "id": "6a076d4a-7c5c-4abd-a338-c5199baecb07",
   "metadata": {},
   "outputs": [],
   "source": [
    "# Head #2: \n",
    "# Classification (What is the defect?)\n",
    "# This second machine takes the same visual input but tries to decide what it's looking at. \n",
    "# The Dropout is like forcing the model to generalize by hiding parts of what it sees — to avoid overconfidence.\n",
    "# - input_layer_1 --> vgg16 --> dense_2\n",
    "x2 = keras.layers.Dense(1024,activation = \"relu\")(x) #dense_2\n",
    "x2 = keras.layers.Dropout(0.5)(x2)\n",
    "x2 = keras.layers.Dense(512,activation = \"relu\")(x2) #dense_3\n",
    "# This gives you a probability distribution over 10 classes — like saying: “There’s a 70% chance it’s a scratch, 20% it’s a dent, 10% inclusion.”\n",
    "out_class = keras.layers.Dense(10,activation = \"softmax\", name = \"class\")(x2)"
   ]
  },
  {
   "cell_type": "code",
   "execution_count": 138,
   "id": "73267128-23c4-4bf5-99d0-0cb754f34636",
   "metadata": {},
   "outputs": [],
   "source": [
    "# Combine both outputs:\n",
    "# You’re producing 5 outputs: 4 numbers for the bounding box 1 vector (length 10) for the class prediction\n",
    "#   4 bounding box values: xmin, ymin, xmax, ymax → shape (None, 1)\n",
    "#   1 classification output: class → shape (None, 10)\n",
    "out = [out1, out2, out3, out4, out_class]"
   ]
  },
  {
   "cell_type": "code",
   "execution_count": 139,
   "id": "6a274c69-a290-49e6-8174-b4e9f446cef3",
   "metadata": {
    "scrolled": true
   },
   "outputs": [
    {
     "data": {
      "text/html": [
       "<pre style=\"white-space:pre;overflow-x:auto;line-height:normal;font-family:Menlo,'DejaVu Sans Mono',consolas,'Courier New',monospace\"><span style=\"font-weight: bold\">Model: \"functional_2\"</span>\n",
       "</pre>\n"
      ],
      "text/plain": [
       "\u001b[1mModel: \"functional_2\"\u001b[0m\n"
      ]
     },
     "metadata": {},
     "output_type": "display_data"
    },
    {
     "data": {
      "text/html": [
       "<pre style=\"white-space:pre;overflow-x:auto;line-height:normal;font-family:Menlo,'DejaVu Sans Mono',consolas,'Courier New',monospace\">┏━━━━━━━━━━━━━━━━━━━━━━━━━━━━━━━┳━━━━━━━━━━━━━━━━━━━━━━━━━━━┳━━━━━━━━━━━━━━━━━┳━━━━━━━━━━━━━━━━━━━━━━━━━━━━┓\n",
       "┃<span style=\"font-weight: bold\"> Layer (type)                  </span>┃<span style=\"font-weight: bold\"> Output Shape              </span>┃<span style=\"font-weight: bold\">         Param # </span>┃<span style=\"font-weight: bold\"> Connected to               </span>┃\n",
       "┡━━━━━━━━━━━━━━━━━━━━━━━━━━━━━━━╇━━━━━━━━━━━━━━━━━━━━━━━━━━━╇━━━━━━━━━━━━━━━━━╇━━━━━━━━━━━━━━━━━━━━━━━━━━━━┩\n",
       "│ input_layer_3 (<span style=\"color: #0087ff; text-decoration-color: #0087ff\">InputLayer</span>)    │ (<span style=\"color: #00d7ff; text-decoration-color: #00d7ff\">None</span>, <span style=\"color: #00af00; text-decoration-color: #00af00\">224</span>, <span style=\"color: #00af00; text-decoration-color: #00af00\">224</span>, <span style=\"color: #00af00; text-decoration-color: #00af00\">3</span>)       │               <span style=\"color: #00af00; text-decoration-color: #00af00\">0</span> │ -                          │\n",
       "├───────────────────────────────┼───────────────────────────┼─────────────────┼────────────────────────────┤\n",
       "│ vgg16 (<span style=\"color: #0087ff; text-decoration-color: #0087ff\">Functional</span>)            │ (<span style=\"color: #00d7ff; text-decoration-color: #00d7ff\">None</span>, <span style=\"color: #00af00; text-decoration-color: #00af00\">512</span>)               │      <span style=\"color: #00af00; text-decoration-color: #00af00\">14,714,688</span> │ input_layer_3[<span style=\"color: #00af00; text-decoration-color: #00af00\">0</span>][<span style=\"color: #00af00; text-decoration-color: #00af00\">0</span>]        │\n",
       "├───────────────────────────────┼───────────────────────────┼─────────────────┼────────────────────────────┤\n",
       "│ dense_6 (<span style=\"color: #0087ff; text-decoration-color: #0087ff\">Dense</span>)               │ (<span style=\"color: #00d7ff; text-decoration-color: #00d7ff\">None</span>, <span style=\"color: #00af00; text-decoration-color: #00af00\">1024</span>)              │         <span style=\"color: #00af00; text-decoration-color: #00af00\">525,312</span> │ vgg16[<span style=\"color: #00af00; text-decoration-color: #00af00\">0</span>][<span style=\"color: #00af00; text-decoration-color: #00af00\">0</span>]                │\n",
       "├───────────────────────────────┼───────────────────────────┼─────────────────┼────────────────────────────┤\n",
       "│ dense_4 (<span style=\"color: #0087ff; text-decoration-color: #0087ff\">Dense</span>)               │ (<span style=\"color: #00d7ff; text-decoration-color: #00d7ff\">None</span>, <span style=\"color: #00af00; text-decoration-color: #00af00\">1024</span>)              │         <span style=\"color: #00af00; text-decoration-color: #00af00\">525,312</span> │ vgg16[<span style=\"color: #00af00; text-decoration-color: #00af00\">0</span>][<span style=\"color: #00af00; text-decoration-color: #00af00\">0</span>]                │\n",
       "├───────────────────────────────┼───────────────────────────┼─────────────────┼────────────────────────────┤\n",
       "│ dropout_1 (<span style=\"color: #0087ff; text-decoration-color: #0087ff\">Dropout</span>)           │ (<span style=\"color: #00d7ff; text-decoration-color: #00d7ff\">None</span>, <span style=\"color: #00af00; text-decoration-color: #00af00\">1024</span>)              │               <span style=\"color: #00af00; text-decoration-color: #00af00\">0</span> │ dense_6[<span style=\"color: #00af00; text-decoration-color: #00af00\">0</span>][<span style=\"color: #00af00; text-decoration-color: #00af00\">0</span>]              │\n",
       "├───────────────────────────────┼───────────────────────────┼─────────────────┼────────────────────────────┤\n",
       "│ dense_5 (<span style=\"color: #0087ff; text-decoration-color: #0087ff\">Dense</span>)               │ (<span style=\"color: #00d7ff; text-decoration-color: #00d7ff\">None</span>, <span style=\"color: #00af00; text-decoration-color: #00af00\">512</span>)               │         <span style=\"color: #00af00; text-decoration-color: #00af00\">524,800</span> │ dense_4[<span style=\"color: #00af00; text-decoration-color: #00af00\">0</span>][<span style=\"color: #00af00; text-decoration-color: #00af00\">0</span>]              │\n",
       "├───────────────────────────────┼───────────────────────────┼─────────────────┼────────────────────────────┤\n",
       "│ dense_7 (<span style=\"color: #0087ff; text-decoration-color: #0087ff\">Dense</span>)               │ (<span style=\"color: #00d7ff; text-decoration-color: #00d7ff\">None</span>, <span style=\"color: #00af00; text-decoration-color: #00af00\">512</span>)               │         <span style=\"color: #00af00; text-decoration-color: #00af00\">524,800</span> │ dropout_1[<span style=\"color: #00af00; text-decoration-color: #00af00\">0</span>][<span style=\"color: #00af00; text-decoration-color: #00af00\">0</span>]            │\n",
       "├───────────────────────────────┼───────────────────────────┼─────────────────┼────────────────────────────┤\n",
       "│ xmin (<span style=\"color: #0087ff; text-decoration-color: #0087ff\">Dense</span>)                  │ (<span style=\"color: #00d7ff; text-decoration-color: #00d7ff\">None</span>, <span style=\"color: #00af00; text-decoration-color: #00af00\">1</span>)                 │             <span style=\"color: #00af00; text-decoration-color: #00af00\">513</span> │ dense_5[<span style=\"color: #00af00; text-decoration-color: #00af00\">0</span>][<span style=\"color: #00af00; text-decoration-color: #00af00\">0</span>]              │\n",
       "├───────────────────────────────┼───────────────────────────┼─────────────────┼────────────────────────────┤\n",
       "│ ymin (<span style=\"color: #0087ff; text-decoration-color: #0087ff\">Dense</span>)                  │ (<span style=\"color: #00d7ff; text-decoration-color: #00d7ff\">None</span>, <span style=\"color: #00af00; text-decoration-color: #00af00\">1</span>)                 │             <span style=\"color: #00af00; text-decoration-color: #00af00\">513</span> │ dense_5[<span style=\"color: #00af00; text-decoration-color: #00af00\">0</span>][<span style=\"color: #00af00; text-decoration-color: #00af00\">0</span>]              │\n",
       "├───────────────────────────────┼───────────────────────────┼─────────────────┼────────────────────────────┤\n",
       "│ xmax (<span style=\"color: #0087ff; text-decoration-color: #0087ff\">Dense</span>)                  │ (<span style=\"color: #00d7ff; text-decoration-color: #00d7ff\">None</span>, <span style=\"color: #00af00; text-decoration-color: #00af00\">1</span>)                 │             <span style=\"color: #00af00; text-decoration-color: #00af00\">513</span> │ dense_5[<span style=\"color: #00af00; text-decoration-color: #00af00\">0</span>][<span style=\"color: #00af00; text-decoration-color: #00af00\">0</span>]              │\n",
       "├───────────────────────────────┼───────────────────────────┼─────────────────┼────────────────────────────┤\n",
       "│ ymax (<span style=\"color: #0087ff; text-decoration-color: #0087ff\">Dense</span>)                  │ (<span style=\"color: #00d7ff; text-decoration-color: #00d7ff\">None</span>, <span style=\"color: #00af00; text-decoration-color: #00af00\">1</span>)                 │             <span style=\"color: #00af00; text-decoration-color: #00af00\">513</span> │ dense_5[<span style=\"color: #00af00; text-decoration-color: #00af00\">0</span>][<span style=\"color: #00af00; text-decoration-color: #00af00\">0</span>]              │\n",
       "├───────────────────────────────┼───────────────────────────┼─────────────────┼────────────────────────────┤\n",
       "│ class (<span style=\"color: #0087ff; text-decoration-color: #0087ff\">Dense</span>)                 │ (<span style=\"color: #00d7ff; text-decoration-color: #00d7ff\">None</span>, <span style=\"color: #00af00; text-decoration-color: #00af00\">10</span>)                │           <span style=\"color: #00af00; text-decoration-color: #00af00\">5,130</span> │ dense_7[<span style=\"color: #00af00; text-decoration-color: #00af00\">0</span>][<span style=\"color: #00af00; text-decoration-color: #00af00\">0</span>]              │\n",
       "└───────────────────────────────┴───────────────────────────┴─────────────────┴────────────────────────────┘\n",
       "</pre>\n"
      ],
      "text/plain": [
       "┏━━━━━━━━━━━━━━━━━━━━━━━━━━━━━━━┳━━━━━━━━━━━━━━━━━━━━━━━━━━━┳━━━━━━━━━━━━━━━━━┳━━━━━━━━━━━━━━━━━━━━━━━━━━━━┓\n",
       "┃\u001b[1m \u001b[0m\u001b[1mLayer (type)                 \u001b[0m\u001b[1m \u001b[0m┃\u001b[1m \u001b[0m\u001b[1mOutput Shape             \u001b[0m\u001b[1m \u001b[0m┃\u001b[1m \u001b[0m\u001b[1m        Param #\u001b[0m\u001b[1m \u001b[0m┃\u001b[1m \u001b[0m\u001b[1mConnected to              \u001b[0m\u001b[1m \u001b[0m┃\n",
       "┡━━━━━━━━━━━━━━━━━━━━━━━━━━━━━━━╇━━━━━━━━━━━━━━━━━━━━━━━━━━━╇━━━━━━━━━━━━━━━━━╇━━━━━━━━━━━━━━━━━━━━━━━━━━━━┩\n",
       "│ input_layer_3 (\u001b[38;5;33mInputLayer\u001b[0m)    │ (\u001b[38;5;45mNone\u001b[0m, \u001b[38;5;34m224\u001b[0m, \u001b[38;5;34m224\u001b[0m, \u001b[38;5;34m3\u001b[0m)       │               \u001b[38;5;34m0\u001b[0m │ -                          │\n",
       "├───────────────────────────────┼───────────────────────────┼─────────────────┼────────────────────────────┤\n",
       "│ vgg16 (\u001b[38;5;33mFunctional\u001b[0m)            │ (\u001b[38;5;45mNone\u001b[0m, \u001b[38;5;34m512\u001b[0m)               │      \u001b[38;5;34m14,714,688\u001b[0m │ input_layer_3[\u001b[38;5;34m0\u001b[0m][\u001b[38;5;34m0\u001b[0m]        │\n",
       "├───────────────────────────────┼───────────────────────────┼─────────────────┼────────────────────────────┤\n",
       "│ dense_6 (\u001b[38;5;33mDense\u001b[0m)               │ (\u001b[38;5;45mNone\u001b[0m, \u001b[38;5;34m1024\u001b[0m)              │         \u001b[38;5;34m525,312\u001b[0m │ vgg16[\u001b[38;5;34m0\u001b[0m][\u001b[38;5;34m0\u001b[0m]                │\n",
       "├───────────────────────────────┼───────────────────────────┼─────────────────┼────────────────────────────┤\n",
       "│ dense_4 (\u001b[38;5;33mDense\u001b[0m)               │ (\u001b[38;5;45mNone\u001b[0m, \u001b[38;5;34m1024\u001b[0m)              │         \u001b[38;5;34m525,312\u001b[0m │ vgg16[\u001b[38;5;34m0\u001b[0m][\u001b[38;5;34m0\u001b[0m]                │\n",
       "├───────────────────────────────┼───────────────────────────┼─────────────────┼────────────────────────────┤\n",
       "│ dropout_1 (\u001b[38;5;33mDropout\u001b[0m)           │ (\u001b[38;5;45mNone\u001b[0m, \u001b[38;5;34m1024\u001b[0m)              │               \u001b[38;5;34m0\u001b[0m │ dense_6[\u001b[38;5;34m0\u001b[0m][\u001b[38;5;34m0\u001b[0m]              │\n",
       "├───────────────────────────────┼───────────────────────────┼─────────────────┼────────────────────────────┤\n",
       "│ dense_5 (\u001b[38;5;33mDense\u001b[0m)               │ (\u001b[38;5;45mNone\u001b[0m, \u001b[38;5;34m512\u001b[0m)               │         \u001b[38;5;34m524,800\u001b[0m │ dense_4[\u001b[38;5;34m0\u001b[0m][\u001b[38;5;34m0\u001b[0m]              │\n",
       "├───────────────────────────────┼───────────────────────────┼─────────────────┼────────────────────────────┤\n",
       "│ dense_7 (\u001b[38;5;33mDense\u001b[0m)               │ (\u001b[38;5;45mNone\u001b[0m, \u001b[38;5;34m512\u001b[0m)               │         \u001b[38;5;34m524,800\u001b[0m │ dropout_1[\u001b[38;5;34m0\u001b[0m][\u001b[38;5;34m0\u001b[0m]            │\n",
       "├───────────────────────────────┼───────────────────────────┼─────────────────┼────────────────────────────┤\n",
       "│ xmin (\u001b[38;5;33mDense\u001b[0m)                  │ (\u001b[38;5;45mNone\u001b[0m, \u001b[38;5;34m1\u001b[0m)                 │             \u001b[38;5;34m513\u001b[0m │ dense_5[\u001b[38;5;34m0\u001b[0m][\u001b[38;5;34m0\u001b[0m]              │\n",
       "├───────────────────────────────┼───────────────────────────┼─────────────────┼────────────────────────────┤\n",
       "│ ymin (\u001b[38;5;33mDense\u001b[0m)                  │ (\u001b[38;5;45mNone\u001b[0m, \u001b[38;5;34m1\u001b[0m)                 │             \u001b[38;5;34m513\u001b[0m │ dense_5[\u001b[38;5;34m0\u001b[0m][\u001b[38;5;34m0\u001b[0m]              │\n",
       "├───────────────────────────────┼───────────────────────────┼─────────────────┼────────────────────────────┤\n",
       "│ xmax (\u001b[38;5;33mDense\u001b[0m)                  │ (\u001b[38;5;45mNone\u001b[0m, \u001b[38;5;34m1\u001b[0m)                 │             \u001b[38;5;34m513\u001b[0m │ dense_5[\u001b[38;5;34m0\u001b[0m][\u001b[38;5;34m0\u001b[0m]              │\n",
       "├───────────────────────────────┼───────────────────────────┼─────────────────┼────────────────────────────┤\n",
       "│ ymax (\u001b[38;5;33mDense\u001b[0m)                  │ (\u001b[38;5;45mNone\u001b[0m, \u001b[38;5;34m1\u001b[0m)                 │             \u001b[38;5;34m513\u001b[0m │ dense_5[\u001b[38;5;34m0\u001b[0m][\u001b[38;5;34m0\u001b[0m]              │\n",
       "├───────────────────────────────┼───────────────────────────┼─────────────────┼────────────────────────────┤\n",
       "│ class (\u001b[38;5;33mDense\u001b[0m)                 │ (\u001b[38;5;45mNone\u001b[0m, \u001b[38;5;34m10\u001b[0m)                │           \u001b[38;5;34m5,130\u001b[0m │ dense_7[\u001b[38;5;34m0\u001b[0m][\u001b[38;5;34m0\u001b[0m]              │\n",
       "└───────────────────────────────┴───────────────────────────┴─────────────────┴────────────────────────────┘\n"
      ]
     },
     "metadata": {},
     "output_type": "display_data"
    },
    {
     "data": {
      "text/html": [
       "<pre style=\"white-space:pre;overflow-x:auto;line-height:normal;font-family:Menlo,'DejaVu Sans Mono',consolas,'Courier New',monospace\"><span style=\"font-weight: bold\"> Total params: </span><span style=\"color: #00af00; text-decoration-color: #00af00\">16,822,094</span> (64.17 MB)\n",
       "</pre>\n"
      ],
      "text/plain": [
       "\u001b[1m Total params: \u001b[0m\u001b[38;5;34m16,822,094\u001b[0m (64.17 MB)\n"
      ]
     },
     "metadata": {},
     "output_type": "display_data"
    },
    {
     "data": {
      "text/html": [
       "<pre style=\"white-space:pre;overflow-x:auto;line-height:normal;font-family:Menlo,'DejaVu Sans Mono',consolas,'Courier New',monospace\"><span style=\"font-weight: bold\"> Trainable params: </span><span style=\"color: #00af00; text-decoration-color: #00af00\">16,822,094</span> (64.17 MB)\n",
       "</pre>\n"
      ],
      "text/plain": [
       "\u001b[1m Trainable params: \u001b[0m\u001b[38;5;34m16,822,094\u001b[0m (64.17 MB)\n"
      ]
     },
     "metadata": {},
     "output_type": "display_data"
    },
    {
     "data": {
      "text/html": [
       "<pre style=\"white-space:pre;overflow-x:auto;line-height:normal;font-family:Menlo,'DejaVu Sans Mono',consolas,'Courier New',monospace\"><span style=\"font-weight: bold\"> Non-trainable params: </span><span style=\"color: #00af00; text-decoration-color: #00af00\">0</span> (0.00 B)\n",
       "</pre>\n"
      ],
      "text/plain": [
       "\u001b[1m Non-trainable params: \u001b[0m\u001b[38;5;34m0\u001b[0m (0.00 B)\n"
      ]
     },
     "metadata": {},
     "output_type": "display_data"
    }
   ],
   "source": [
    "# This creates the full model and shows a summary of layers, shapes, and parameters.\n",
    "vgg16 = keras.models.Model(inputs = inputs, outputs = out)\n",
    "vgg16.summary()"
   ]
  },
  {
   "cell_type": "code",
   "execution_count": 142,
   "id": "df3b12a6-114c-48a5-9822-07201d71efe2",
   "metadata": {},
   "outputs": [],
   "source": [
    "# Layer: a single computational step in the model. It takes input data, performs some transformation, and passes the result to the next layer\n",
    "#   input_layer_1: Placeholder for input image\n",
    "#   vgg16: The pre-trained VGG16 feature extractor\n",
    "#   dense_2: Fully connected layer with 1024 units\n",
    "#   dropout: Randomly drops 50% of inputs during training\n",
    "#   x/ymin, x/ymax, class: Final output heads"
   ]
  },
  {
   "cell_type": "code",
   "execution_count": 143,
   "id": "a8aeee36-bbce-4994-ad0a-26947cc80ade",
   "metadata": {},
   "outputs": [],
   "source": [
    "#                            +--------------------------+\n",
    "#                            | input_layer_1 (Input)    |\n",
    "#                            | shape: (224, 224, 3)     |\n",
    "#                            +------------+-------------+\n",
    "#                                         |\n",
    "#                            +--------------------------+\n",
    "#                            | vgg16 (Functional)       |\n",
    "#                            | output shape: (512,)     |\n",
    "#                            +------------+-------------+\n",
    "#                                         |\n",
    "#                    +----Bounding Box----+----Classification---+\n",
    "#                    |                                          |\n",
    "#                    x                                          x\n",
    "#         +---------------------+                     +---------------------+\n",
    "#         | dense (1024, relu)  |                     | dense_2 (1024, relu)|\n",
    "#         +----------+----------+                     +----------+----------+\n",
    "#                    |                                           |\n",
    "#                    x1                                          x2\n",
    "#         +---------------------+                     +---------------------+\n",
    "#         | dense_1 (512, relu) |                     | dropout (rate=0.5)  |\n",
    "#         +----------+----------+                     +----------+----------+\n",
    "#                    |                                           |\n",
    "#                    x1                                          x2\n",
    "#         +-------+------+--------+                   +----------------------+\n",
    "#         |       |       |       |                   | dense_3 (512, relu)  |\n",
    "#         |       |       |       |                   +----------+-----------+\n",
    "#         |       |       |       |                              |\n",
    "#         x1      x1      x1      x1                             x2\n",
    "#     +------+ +------+ +------+ +------+             +------------------------+\n",
    "#     | xmin | | ymin | | xmax | | ymax |             | class (Dense, softmax) |\n",
    "#     | (1)  | | (1)  | | (1)  | | (1)  |             | shape: (None, 10)      |\n",
    "#     +------+ +------+ +------+ +------+             +-----------+------------+\n",
    "#                                                                 |\n",
    "#                                                                 x2\n",
    "#                                                     +------------------------+\n",
    "#                                                     |   10-class prediction  |\n",
    "#                                                     +------------------------+"
   ]
  },
  {
   "cell_type": "code",
   "execution_count": 148,
   "id": "f14a9b10-d0fe-47f0-8138-964f022c6a24",
   "metadata": {},
   "outputs": [],
   "source": [
    "# Compile the model with optimizer and loss functions\n",
    "# This code prepares your model for training by telling Keras:\n",
    "# How to adjust the model’s weights (the optimizer)\n",
    "# How to measure errors (the loss functions)\n",
    "# What metrics to track during training (like accuracy and mean absolute error)\n",
    "# Uses the Adam optimizer, a popular and efficient way of updating weights during training.\n",
    "# The learning rate is set to 0.0005 — a relatively small step size for stable learning.\n",
    "# loss = {\n",
    "#        \"xmin\": \"mse\",\n",
    "#        \"ymin\": \"mse\",\n",
    "#        \"xmax\": \"mse\",\n",
    "#        \"ymax\": \"mse\",\n",
    "#        \"class\": \"categorical_crossentropy\"\n",
    "# }\n",
    "# This model has five outputs: xmin, ymin, xmax, ymax, and class\n",
    "# Use Mean Squared Error (MSE) for the 4 bounding box outputs.  Good for continuous values like coordinates.\n",
    "# Use Categorical Crossentropy for the class output. Standard for multi-class classification with one-hot encoded labels.\n",
    "# metrics = [\"mae\", \"acc\"] \n",
    "#  \"mae\" = Mean Absolute Error (good for bounding boxes)\n",
    "#  \"acc\" = Accuracy (used on the class output)\n",
    "#######\n",
    "#  “Hey Keras — use the Adam optimizer with a small learning rate. For the four bounding box outputs, \n",
    "#   use MSE to measure how far off the predictions are. For the class output, use categorical crossentropy. \n",
    "#   While training, also track how far off the boxes are on average (mae) and how often the predicted class is correct (acc).”\n",
    "#######\n",
    "vgg16.compile(keras.optimizers.Adam(0.0005),\n",
    "   loss = { \n",
    "      \"xmin\": \"mse\",\n",
    "      \"ymin\": \"mse\",\n",
    "      \"xmax\": \"mse\",\n",
    "      \"ymax\": \"mse\",\n",
    "      \"class\": \"categorical_crossentropy\" \n",
    "   },\n",
    "   metrics = {\n",
    "      \"xmin\": \"mae\",\n",
    "      \"ymin\": \"mae\",\n",
    "      \"xmax\": \"mae\",\n",
    "      \"ymax\": \"mae\",\n",
    "      \"class\": \"acc\"\n",
    "   }\n",
    ")"
   ]
  },
  {
   "cell_type": "code",
   "execution_count": 145,
   "id": "a595f56d-2ea9-4971-9bd2-d8c6bbf72c75",
   "metadata": {},
   "outputs": [],
   "source": [
    "# Reduce learning rate\n",
    "# Creates a training callback that automatically adjusts (reduces) the learning rate if your model’s performance stops improving.\n",
    "#    \"val_loss\"  : Monitors the validation loss (error on your validation set)\n",
    "#    patience=5\t : Waits 5 epochs without improvement before taking action\n",
    "#    factor=0.5\t : Reduces the learning rate by multiplying it by 0.5 (i.e., halves it)\n",
    "#    min_lr=1e-6 : Ensures the learning rate never drops below 0.000001\n",
    "lr_reduce = keras.callbacks.ReduceLROnPlateau(\"val_loss\", patience = 5, factor = 0.5, min_lr = 1e-6)"
   ]
  },
  {
   "cell_type": "code",
   "execution_count": null,
   "id": "13c7485a-f310-4d49-822f-5101d813c210",
   "metadata": {},
   "outputs": [
    {
     "name": "stdout",
     "output_type": "stream",
     "text": [
      "Epoch 1/200\n",
      "\u001b[1m57/57\u001b[0m \u001b[32m━━━━━━━━━━━━━━━━━━━━\u001b[0m\u001b[37m\u001b[0m \u001b[1m543s\u001b[0m 9s/step - class_acc: 0.2214 - class_loss: 2.2823 - loss: 5.0285 - xmax_loss: 1.5239 - xmax_mae: 0.5644 - xmin_loss: 0.1548 - xmin_mae: 0.3150 - ymax_loss: 0.8674 - ymax_mae: 0.4829 - ymin_loss: 0.2001 - ymin_mae: 0.3247 - val_class_acc: 0.3728 - val_class_loss: 1.8636 - val_loss: 2.2034 - val_xmax_loss: 0.0709 - val_xmax_mae: 0.2186 - val_xmin_loss: 0.0673 - val_xmin_mae: 0.2056 - val_ymax_loss: 0.1214 - val_ymax_mae: 0.3173 - val_ymin_loss: 0.0802 - val_ymin_mae: 0.2560 - learning_rate: 5.0000e-04\n",
      "Epoch 2/200\n",
      "\u001b[1m22/57\u001b[0m \u001b[32m━━━━━━━\u001b[0m\u001b[37m━━━━━━━━━━━━━\u001b[0m \u001b[1m5:19\u001b[0m 9s/step - class_acc: 0.2352 - class_loss: 2.1003 - loss: 2.4834 - xmax_loss: 0.1102 - xmax_mae: 0.2893 - xmin_loss: 0.0856 - xmin_mae: 0.2538 - ymax_loss: 0.1063 - ymax_mae: 0.2899 - ymin_loss: 0.0810 - ymin_mae: 0.2482"
     ]
    }
   ],
   "source": [
    "# Start training the model\n",
    "# This line of code runs the training loop for your custom VGG16-based model in Keras. \n",
    "# It's where your model finally sees the data and learns from it.\n",
    "#     Training data: train_dataset\n",
    "#     Validation data: test_dataset\n",
    "#######\n",
    "# This code trains the model for up to 200 epochs, using batches of data from train_dataset. \n",
    "# After each epoch, it evaluates on test_dataset. If validation loss stops improving for 5 epochs, \n",
    "# it reduces the learning rate to help refine learning. All training stats are stored in the history object.\n",
    "#######\n",
    "history = vgg16.fit(train_dataset,\n",
    "                    steps_per_epoch = train_count//batch_size,\n",
    "                    epochs = 200,\n",
    "                    validation_data = test_dataset,\n",
    "                    validation_steps = test_count//batch_size,\n",
    "                    callbacks = [lr_reduce])"
   ]
  },
  {
   "cell_type": "code",
   "execution_count": null,
   "id": "905295b8-cd24-4c24-993b-e4b333b7d0cc",
   "metadata": {},
   "outputs": [],
   "source": [
    "history.history[\"val_loss\"]"
   ]
  },
  {
   "cell_type": "code",
   "execution_count": null,
   "id": "f5f8079a-357b-4e90-b874-68c7f2fcee35",
   "metadata": {},
   "outputs": [],
   "source": [
    "history.history[\"class_acc\"]"
   ]
  }
 ],
 "metadata": {
  "kernelspec": {
   "display_name": "Python 3 (ipykernel)",
   "language": "python",
   "name": "python3"
  },
  "language_info": {
   "codemirror_mode": {
    "name": "ipython",
    "version": 3
   },
   "file_extension": ".py",
   "mimetype": "text/x-python",
   "name": "python",
   "nbconvert_exporter": "python",
   "pygments_lexer": "ipython3",
   "version": "3.12.10"
  }
 },
 "nbformat": 4,
 "nbformat_minor": 5
}
